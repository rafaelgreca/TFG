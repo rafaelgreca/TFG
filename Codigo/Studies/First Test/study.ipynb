{
 "cells": [
  {
   "cell_type": "code",
   "execution_count": 55,
   "id": "vaX4UHsVPBLk",
   "metadata": {
    "executionInfo": {
     "elapsed": 23737,
     "status": "ok",
     "timestamp": 1627855333358,
     "user": {
      "displayName": "Rafael Greca",
      "photoUrl": "",
      "userId": "13108790060757877730"
     },
     "user_tz": 180
    },
    "id": "vaX4UHsVPBLk"
   },
   "outputs": [],
   "source": [
    "%%capture\n",
    "!pip install nlpaug\n",
    "!pip install nltk\n",
    "!pip install pandas\n",
    "!pip install matplotlib\n",
    "!pip install seaborn\n",
    "!pip install keras\n",
    "!pip install -U scikit-learn\n",
    "!pip install -U imbalanced-learn"
   ]
  },
  {
   "cell_type": "code",
   "execution_count": 124,
   "id": "pmIIzX4jOaLm",
   "metadata": {
    "colab": {
     "base_uri": "https://localhost:8080/",
     "height": 108,
     "resources": {
      "http://localhost:8080/nbextensions/google.colab/files.js": {
       "data": "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",
       "headers": [
        [
         "content-type",
         "application/javascript"
        ]
       ],
       "ok": true,
       "status": 200,
       "status_text": "OK"
      }
     }
    },
    "executionInfo": {
     "elapsed": 24645,
     "status": "ok",
     "timestamp": 1627857475273,
     "user": {
      "displayName": "Rafael Greca",
      "photoUrl": "",
      "userId": "13108790060757877730"
     },
     "user_tz": 180
    },
    "id": "pmIIzX4jOaLm",
    "outputId": "66b6c18d-4d3b-4e6f-e2c8-ca06cfdf2a5d"
   },
   "outputs": [
    {
     "data": {
      "text/html": [
       "\n",
       "     <input type=\"file\" id=\"files-6084a581-7b85-4afa-aff0-c6511c8ebf8b\" name=\"files[]\" multiple disabled\n",
       "        style=\"border:none\" />\n",
       "     <output id=\"result-6084a581-7b85-4afa-aff0-c6511c8ebf8b\">\n",
       "      Upload widget is only available when the cell has been executed in the\n",
       "      current browser session. Please rerun this cell to enable.\n",
       "      </output>\n",
       "      <script src=\"/nbextensions/google.colab/files.js\"></script> "
      ],
      "text/plain": [
       "<IPython.core.display.HTML object>"
      ]
     },
     "metadata": {
      "tags": []
     },
     "output_type": "display_data"
    },
    {
     "name": "stdout",
     "output_type": "stream",
     "text": [
      "Saving eda.txt to eda.txt\n",
      "Saving data_eda.txt to data_eda.txt\n"
     ]
    }
   ],
   "source": [
    "from google.colab import files\n",
    "uploaded = files.upload()"
   ]
  },
  {
   "cell_type": "code",
   "execution_count": 110,
   "id": "loved-actress",
   "metadata": {
    "colab": {
     "base_uri": "https://localhost:8080/"
    },
    "executionInfo": {
     "elapsed": 364,
     "status": "ok",
     "timestamp": 1627857078942,
     "user": {
      "displayName": "Rafael Greca",
      "photoUrl": "",
      "userId": "13108790060757877730"
     },
     "user_tz": 180
    },
    "id": "loved-actress",
    "outputId": "91fbb3d5-73b4-4aa9-8512-f9dda14225fd"
   },
   "outputs": [
    {
     "name": "stdout",
     "output_type": "stream",
     "text": [
      "[nltk_data] Downloading package stopwords to /root/nltk_data...\n",
      "[nltk_data]   Package stopwords is already up-to-date!\n",
      "[nltk_data] Downloading package wordnet to /root/nltk_data...\n",
      "[nltk_data]   Package wordnet is already up-to-date!\n",
      "[nltk_data] Downloading package averaged_perceptron_tagger to\n",
      "[nltk_data]     /root/nltk_data...\n",
      "[nltk_data]   Unzipping taggers/averaged_perceptron_tagger.zip.\n"
     ]
    }
   ],
   "source": [
    "import nlpaug.augmenter.char as nac\n",
    "import nlpaug.augmenter.word as naw\n",
    "import nlpaug.augmenter.sentence as nas\n",
    "import pandas as pd\n",
    "import nltk\n",
    "nltk.download('stopwords')\n",
    "nltk.download('wordnet')\n",
    "nltk.download('averaged_perceptron_tagger')\n",
    "import re\n",
    "import matplotlib.pyplot as plt\n",
    "import numpy as np\n",
    "import seaborn as sns\n",
    "sns.set_style('darkgrid')\n",
    "\n",
    "from keras.preprocessing.text import Tokenizer\n",
    "from keras.preprocessing.sequence import pad_sequences\n",
    "from imblearn.over_sampling import RandomOverSampler, SMOTE\n",
    "from imblearn.combine import SMOTETomek \n",
    "from sklearn.model_selection import train_test_split\n",
    "from keras.models import Sequential\n",
    "from keras import layers\n",
    "from nltk.corpus import stopwords\n",
    "stop_words = set(stopwords.words('english')) "
   ]
  },
  {
   "cell_type": "code",
   "execution_count": 58,
   "id": "departmental-watch",
   "metadata": {
    "colab": {
     "base_uri": "https://localhost:8080/",
     "height": 206
    },
    "executionInfo": {
     "elapsed": 31,
     "status": "ok",
     "timestamp": 1627855338827,
     "user": {
      "displayName": "Rafael Greca",
      "photoUrl": "",
      "userId": "13108790060757877730"
     },
     "user_tz": 180
    },
    "id": "departmental-watch",
    "outputId": "cd0859af-c02f-49e9-c828-35bcd1691444"
   },
   "outputs": [
    {
     "data": {
      "text/html": [
       "<div>\n",
       "<style scoped>\n",
       "    .dataframe tbody tr th:only-of-type {\n",
       "        vertical-align: middle;\n",
       "    }\n",
       "\n",
       "    .dataframe tbody tr th {\n",
       "        vertical-align: top;\n",
       "    }\n",
       "\n",
       "    .dataframe thead th {\n",
       "        text-align: right;\n",
       "    }\n",
       "</style>\n",
       "<table border=\"1\" class=\"dataframe\">\n",
       "  <thead>\n",
       "    <tr style=\"text-align: right;\">\n",
       "      <th></th>\n",
       "      <th>label</th>\n",
       "      <th>tweet</th>\n",
       "    </tr>\n",
       "  </thead>\n",
       "  <tbody>\n",
       "    <tr>\n",
       "      <th>0</th>\n",
       "      <td>0</td>\n",
       "      <td>@user when a father is dysfunctional and is s...</td>\n",
       "    </tr>\n",
       "    <tr>\n",
       "      <th>1</th>\n",
       "      <td>0</td>\n",
       "      <td>@user @user thanks for #lyft credit i can't us...</td>\n",
       "    </tr>\n",
       "    <tr>\n",
       "      <th>2</th>\n",
       "      <td>0</td>\n",
       "      <td>bihday your majesty</td>\n",
       "    </tr>\n",
       "    <tr>\n",
       "      <th>3</th>\n",
       "      <td>0</td>\n",
       "      <td>#model   i love u take with u all the time in ...</td>\n",
       "    </tr>\n",
       "    <tr>\n",
       "      <th>4</th>\n",
       "      <td>0</td>\n",
       "      <td>factsguide: society now    #motivation</td>\n",
       "    </tr>\n",
       "  </tbody>\n",
       "</table>\n",
       "</div>"
      ],
      "text/plain": [
       "   label                                              tweet\n",
       "0      0   @user when a father is dysfunctional and is s...\n",
       "1      0  @user @user thanks for #lyft credit i can't us...\n",
       "2      0                                bihday your majesty\n",
       "3      0  #model   i love u take with u all the time in ...\n",
       "4      0             factsguide: society now    #motivation"
      ]
     },
     "execution_count": 58,
     "metadata": {
      "tags": []
     },
     "output_type": "execute_result"
    }
   ],
   "source": [
    "data = pd.read_csv('Data/train.csv')\n",
    "data = data.drop(columns=['id'])\n",
    "data.head()"
   ]
  },
  {
   "cell_type": "code",
   "execution_count": 59,
   "id": "published-acrylic",
   "metadata": {
    "colab": {
     "base_uri": "https://localhost:8080/"
    },
    "executionInfo": {
     "elapsed": 28,
     "status": "ok",
     "timestamp": 1627855338830,
     "user": {
      "displayName": "Rafael Greca",
      "photoUrl": "",
      "userId": "13108790060757877730"
     },
     "user_tz": 180
    },
    "id": "published-acrylic",
    "outputId": "76328658-c2f8-4cc3-ea38-da46d786a891"
   },
   "outputs": [
    {
     "data": {
      "text/plain": [
       "(31962, 2)"
      ]
     },
     "execution_count": 59,
     "metadata": {
      "tags": []
     },
     "output_type": "execute_result"
    }
   ],
   "source": [
    "data.shape"
   ]
  },
  {
   "cell_type": "code",
   "execution_count": 60,
   "id": "satellite-triple",
   "metadata": {
    "executionInfo": {
     "elapsed": 768,
     "status": "ok",
     "timestamp": 1627855339575,
     "user": {
      "displayName": "Rafael Greca",
      "photoUrl": "",
      "userId": "13108790060757877730"
     },
     "user_tz": 180
    },
    "id": "satellite-triple"
   },
   "outputs": [],
   "source": [
    "def lowercase(text):\n",
    "    text = text.lower()\n",
    "    return text\n",
    "\n",
    "def remove_punction(text):\n",
    "    text = re.sub(r'[^a-z0-9 ]+', '', text)\n",
    "    return text\n",
    "    \n",
    "def only_letters(text):\n",
    "    text = re.sub(r'[^a-z ]', '', text)\n",
    "    return text\n",
    "\n",
    "def remove_spam(text):\n",
    "    text = re.sub(r'\\&\\S+\\;', '', text)\n",
    "    return text\n",
    "    \n",
    "def format_text(text):\n",
    "    text = re.sub(r'\\s+', ' ', text)\n",
    "    text = text.strip()\n",
    "    return text\n",
    "\n",
    "def remove_user(text):\n",
    "    text = re.sub(r'\\@[^\\s]+', '', text)\n",
    "    return text\n",
    "\n",
    "def remove_hashtag(text):\n",
    "    text = re.sub(r'\\#[^\\s]+', '', text)\n",
    "    return text\n",
    "\n",
    "def remove_link(text):\n",
    "    text = re.sub(r'https?[^\\s]+', '', text)\n",
    "    text = re.sub(r'www\\.[^\\s]+', '', text)\n",
    "    text = re.sub(r'www\\s?[^\\s]+\\s?com', '', text)\n",
    "    return text\n",
    "\n",
    "def remove_stopwords(text):\n",
    "    words = text.split(' ')\n",
    "    no_stopwords = [word for word in words if word not in stop_words]\n",
    "    return ' '.join(no_stopwords)\n",
    "\n",
    "def preprocessing(data):\n",
    "    data = pd.Series(data)\n",
    "    data = data.apply(str)\n",
    "    data = data.apply(lowercase)\n",
    "    data = data.apply(remove_user)\n",
    "    data = data.apply(remove_link)\n",
    "    data = data.apply(remove_spam)\n",
    "    data = data.apply(remove_punction)\n",
    "    data = data.apply(only_letters)\n",
    "    data = data.apply(remove_stopwords)\n",
    "    data = data.apply(format_text)\n",
    "    return data"
   ]
  },
  {
   "cell_type": "code",
   "execution_count": 61,
   "id": "colored-wagner",
   "metadata": {
    "colab": {
     "base_uri": "https://localhost:8080/"
    },
    "executionInfo": {
     "elapsed": 65,
     "status": "ok",
     "timestamp": 1627855339577,
     "user": {
      "displayName": "Rafael Greca",
      "photoUrl": "",
      "userId": "13108790060757877730"
     },
     "user_tz": 180
    },
    "id": "colored-wagner",
    "outputId": "7946320f-2af7-48ad-e3c0-31ca7dea11b8"
   },
   "outputs": [
    {
     "data": {
      "text/plain": [
       "(31962, 2)"
      ]
     },
     "execution_count": 61,
     "metadata": {
      "tags": []
     },
     "output_type": "execute_result"
    }
   ],
   "source": [
    "data.shape"
   ]
  },
  {
   "cell_type": "code",
   "execution_count": 62,
   "id": "wanted-ratio",
   "metadata": {
    "colab": {
     "base_uri": "https://localhost:8080/",
     "height": 340
    },
    "executionInfo": {
     "elapsed": 61,
     "status": "ok",
     "timestamp": 1627855339580,
     "user": {
      "displayName": "Rafael Greca",
      "photoUrl": "",
      "userId": "13108790060757877730"
     },
     "user_tz": 180
    },
    "id": "wanted-ratio",
    "outputId": "df26c504-14f4-4665-d781-9b8e02a165ea"
   },
   "outputs": [
    {
     "data": {
      "image/png": "[encoded data removed]",
      "text/plain": [
       "<Figure size 504x360 with 1 Axes>"
      ]
     },
     "metadata": {
      "tags": []
     },
     "output_type": "display_data"
    }
   ],
   "source": [
    "plt.figure(figsize=(7, 5))\n",
    "sns.countplot(data=data, x='label', color='cornflowerblue')\n",
    "plt.xlabel('Classe', fontsize=12)\n",
    "plt.ylabel('Quantidade de mensagens', fontsize=12)\n",
    "plt.tick_params(labelsize=12)\n",
    "plt.savefig('Images/distribuição_dados.png')"
   ]
  },
  {
   "cell_type": "code",
   "execution_count": 63,
   "id": "supposed-boards",
   "metadata": {
    "colab": {
     "base_uri": "https://localhost:8080/"
    },
    "executionInfo": {
     "elapsed": 59,
     "status": "ok",
     "timestamp": 1627855339582,
     "user": {
      "displayName": "Rafael Greca",
      "photoUrl": "",
      "userId": "13108790060757877730"
     },
     "user_tz": 180
    },
    "id": "supposed-boards",
    "outputId": "24e863f9-ee27-4d03-941d-1f610e66b40a"
   },
   "outputs": [
    {
     "data": {
      "text/plain": [
       "0    29720\n",
       "1     2242\n",
       "Name: label, dtype: int64"
      ]
     },
     "execution_count": 63,
     "metadata": {
      "tags": []
     },
     "output_type": "execute_result"
    }
   ],
   "source": [
    "data['label'].value_counts()"
   ]
  },
  {
   "cell_type": "code",
   "execution_count": 64,
   "id": "deadly-madison",
   "metadata": {
    "colab": {
     "base_uri": "https://localhost:8080/"
    },
    "executionInfo": {
     "elapsed": 56,
     "status": "ok",
     "timestamp": 1627855339585,
     "user": {
      "displayName": "Rafael Greca",
      "photoUrl": "",
      "userId": "13108790060757877730"
     },
     "user_tz": 180
    },
    "id": "deadly-madison",
    "outputId": "8b6e05a3-8b6e-43f1-e298-2aded782d604"
   },
   "outputs": [
    {
     "name": "stdout",
     "output_type": "stream",
     "text": [
      "CPU times: user 31.4 ms, sys: 3.04 ms, total: 34.4 ms\n",
      "Wall time: 36.5 ms\n"
     ]
    }
   ],
   "source": [
    "%%time\n",
    "data['cleaned_tweet'] = data['tweet'].apply(lowercase)\n",
    "data.head()"
   ]
  },
  {
   "cell_type": "markdown",
   "id": "shared-effort",
   "metadata": {
    "id": "shared-effort"
   },
   "source": [
    "## Text Augmentation"
   ]
  },
  {
   "cell_type": "code",
   "execution_count": 65,
   "id": "elder-workshop",
   "metadata": {
    "executionInfo": {
     "elapsed": 55,
     "status": "ok",
     "timestamp": 1627855339588,
     "user": {
      "displayName": "Rafael Greca",
      "photoUrl": "",
      "userId": "13108790060757877730"
     },
     "user_tz": 180
    },
    "id": "elder-workshop"
   },
   "outputs": [],
   "source": [
    "def text_augmentation(data, model):\n",
    "    \n",
    "    model = model.lower()\n",
    "    \n",
    "    if model == 'randomoversampler' or model == 'random over sampler':\n",
    "        #over sampling\n",
    "        ros = RandomOverSampler(random_state=42, sampling_strategy='minority')\n",
    "        X_resampled, y_resampled = ros.fit_resample(data[['cleaned_tweet']], data['label'])\n",
    "        data_resampled = pd.concat([X_resampled, y_resampled], axis=1)\n",
    "        return data_resampled\n",
    "    elif model == 'smote':\n",
    "        smote = SMOTE(random_state=42, sampling_strategy='minority')\n",
    "        X_resampled, y_resampled = smote.fit_resample(data[['cleaned_tweet']], data['label'])\n",
    "        data_resampled = pd.concat([X_resampled, y_resampled], axis=1)\n",
    "        return data_resampled\n",
    "    elif model == 'smotetomek' or model == 'smote tomek':\n",
    "        tomek = SMOTETomek(random_state=42)\n",
    "        X_resampled, y_resampled = tomek.fit_resample(data[['cleaned_tweet']], data['label'])\n",
    "        data_resampled = pd.concat([X_resampled, y_resampled], axis=1)\n",
    "        return data_resampled\n",
    "    elif model == 'nlpaug':\n",
    "        aug_texts = []\n",
    "        minority_data = data[data['label'] == 1]\n",
    "        aug = naw.SynonymAug(aug_src='wordnet')\n",
    "        augmented_texts = aug.augment(minority_data['cleaned_tweet'].tolist(), n=15)\n",
    "        \n",
    "        for text in augmented_texts:\n",
    "            aug_texts.append(text)\n",
    "        \n",
    "        temp = pd.DataFrame({\n",
    "            'tweet': aug_texts\n",
    "        })\n",
    "        \n",
    "        temp['label'] = 1\n",
    "        \n",
    "        data = pd.concat([data, temp], axis=0)\n",
    "        data = data.reset_index()\n",
    "        data = data.drop(columns=['index'])\n",
    "        del temp, minority_data\n",
    "        return data"
   ]
  },
  {
   "cell_type": "markdown",
   "id": "legendary-length",
   "metadata": {
    "id": "legendary-length"
   },
   "source": [
    "## Processing"
   ]
  },
  {
   "cell_type": "code",
   "execution_count": 66,
   "id": "running-accident",
   "metadata": {
    "executionInfo": {
     "elapsed": 55,
     "status": "ok",
     "timestamp": 1627855339591,
     "user": {
      "displayName": "Rafael Greca",
      "photoUrl": "",
      "userId": "13108790060757877730"
     },
     "user_tz": 180
    },
    "id": "running-accident"
   },
   "outputs": [],
   "source": [
    "def processing(X_train, X_test):\n",
    "    \n",
    "    tokenizer = Tokenizer(num_words=5000)\n",
    "    tokenizer.fit_on_texts(X_train)\n",
    "\n",
    "    X_train = tokenizer.texts_to_sequences(X_train)\n",
    "    X_test = tokenizer.texts_to_sequences(X_test)\n",
    "\n",
    "    vocab_size = len(tokenizer.word_index) + 1\n",
    "\n",
    "    maxlen = 100\n",
    "\n",
    "    X_train = pad_sequences(X_train, padding='post', maxlen=maxlen)\n",
    "    X_test = pad_sequences(X_test, padding='post', maxlen=maxlen)\n",
    "    \n",
    "    return X_train, X_test, vocab_size, tokenizer"
   ]
  },
  {
   "cell_type": "markdown",
   "id": "reflected-morocco",
   "metadata": {
    "id": "reflected-morocco"
   },
   "source": [
    "## Creating the model"
   ]
  },
  {
   "cell_type": "code",
   "execution_count": 67,
   "id": "precise-microphone",
   "metadata": {
    "executionInfo": {
     "elapsed": 57,
     "status": "ok",
     "timestamp": 1627855339594,
     "user": {
      "displayName": "Rafael Greca",
      "photoUrl": "",
      "userId": "13108790060757877730"
     },
     "user_tz": 180
    },
    "id": "precise-microphone"
   },
   "outputs": [],
   "source": [
    "def create_model(vocab_size):\n",
    "    model = Sequential()\n",
    "    model.add(layers.Embedding(input_dim=vocab_size, \n",
    "                               output_dim=50, \n",
    "                               input_length=100))\n",
    "    model.add(layers.Conv1D(64, 5, activation='relu', padding='same'))\n",
    "    model.add(layers.GlobalMaxPooling1D())\n",
    "    model.add(layers.Dense(1, activation='sigmoid'))\n",
    "    model.compile(optimizer='adam',\n",
    "                  loss='binary_crossentropy',\n",
    "                  metrics=['accuracy'])\n",
    "    return model"
   ]
  },
  {
   "cell_type": "markdown",
   "id": "dominant-chemistry",
   "metadata": {
    "id": "dominant-chemistry"
   },
   "source": [
    "## Plot"
   ]
  },
  {
   "cell_type": "code",
   "execution_count": 68,
   "id": "expressed-warehouse",
   "metadata": {
    "executionInfo": {
     "elapsed": 59,
     "status": "ok",
     "timestamp": 1627855339597,
     "user": {
      "displayName": "Rafael Greca",
      "photoUrl": "",
      "userId": "13108790060757877730"
     },
     "user_tz": 180
    },
    "id": "expressed-warehouse"
   },
   "outputs": [],
   "source": [
    "def plot_model(model, data_augmentation):\n",
    "    loss, accuracy = model.evaluate(X_train, y_train, verbose=False)\n",
    "    print(\"Training Accuracy: {:.4f}\".format(accuracy))\n",
    "    loss, accuracy = model.evaluate(X_test, y_test, verbose=False)\n",
    "    print(\"Testing Accuracy:  {:.4f}\".format(accuracy))\n",
    "\n",
    "    plt.plot(history.history['accuracy'])\n",
    "    plt.plot(history.history['val_accuracy'])\n",
    "\n",
    "    plt.title('model accuracy')\n",
    "    plt.ylabel('accuracy')\n",
    "    plt.xlabel('epoch')\n",
    "    plt.legend(['train','test'], loc = 'upper left')\n",
    "    plt.savefig('Images/accuracy_'+data_augmentation+'.png')\n",
    "    plt.show()\n",
    "\n",
    "    plt.plot(history.history['loss'])\n",
    "    plt.plot(history.history['val_loss'])\n",
    "\n",
    "    plt.title('model loss')\n",
    "    plt.ylabel('loss')\n",
    "    plt.xlabel('epoch')\n",
    "    plt.legend(['train','test'], loc = 'upper left')\n",
    "    plt.savefig('Images/loss_'+data_augmentation+'.png')\n",
    "    plt.show()"
   ]
  },
  {
   "cell_type": "markdown",
   "id": "variable-breakdown",
   "metadata": {
    "id": "variable-breakdown"
   },
   "source": [
    "## Submission"
   ]
  },
  {
   "cell_type": "code",
   "execution_count": 69,
   "id": "crucial-payday",
   "metadata": {
    "executionInfo": {
     "elapsed": 60,
     "status": "ok",
     "timestamp": 1627855339600,
     "user": {
      "displayName": "Rafael Greca",
      "photoUrl": "",
      "userId": "13108790060757877730"
     },
     "user_tz": 180
    },
    "id": "crucial-payday"
   },
   "outputs": [],
   "source": [
    "def submission(model, tokenizer, name):\n",
    "    test = pd.read_csv('Data/test.csv')\n",
    "    test_id = test['id']\n",
    "    test = test.drop(columns=['id'])\n",
    "    test['tweet'] = test['tweet'].apply(lowercase)\n",
    "    \n",
    "    test = tokenizer.texts_to_sequences(test['tweet'])\n",
    "    test = pad_sequences(test, padding='post', maxlen=100)\n",
    "    \n",
    "    prediction = (model.predict(test) > 0.5).astype(\"int32\")\n",
    "    predict = [int(p) for p in prediction]\n",
    "    \n",
    "    submission = pd.DataFrame({\n",
    "        'id': test_id,\n",
    "        'label': predict\n",
    "    })\n",
    "\n",
    "    submission.to_csv(name, index=False)"
   ]
  },
  {
   "cell_type": "markdown",
   "id": "worthy-stick",
   "metadata": {
    "id": "worthy-stick"
   },
   "source": [
    "### Random Over Sampler"
   ]
  },
  {
   "cell_type": "code",
   "execution_count": 70,
   "id": "alternative-metallic",
   "metadata": {
    "executionInfo": {
     "elapsed": 62,
     "status": "ok",
     "timestamp": 1627855339603,
     "user": {
      "displayName": "Rafael Greca",
      "photoUrl": "",
      "userId": "13108790060757877730"
     },
     "user_tz": 180
    },
    "id": "alternative-metallic"
   },
   "outputs": [],
   "source": [
    "data = pd.read_csv('Data/train.csv')\n",
    "data = data.drop(columns=['id'])"
   ]
  },
  {
   "cell_type": "code",
   "execution_count": 71,
   "id": "downtown-sally",
   "metadata": {
    "colab": {
     "base_uri": "https://localhost:8080/"
    },
    "executionInfo": {
     "elapsed": 59,
     "status": "ok",
     "timestamp": 1627855339604,
     "user": {
      "displayName": "Rafael Greca",
      "photoUrl": "",
      "userId": "13108790060757877730"
     },
     "user_tz": 180
    },
    "id": "downtown-sally",
    "outputId": "79e15012-da81-473f-d97d-bcee88e4f61b"
   },
   "outputs": [
    {
     "name": "stdout",
     "output_type": "stream",
     "text": [
      "CPU times: user 22.8 ms, sys: 3.02 ms, total: 25.8 ms\n",
      "Wall time: 25.3 ms\n"
     ]
    }
   ],
   "source": [
    "%%time\n",
    "data['cleaned_tweet'] = data['tweet'].apply(lowercase)\n",
    "data.head()"
   ]
  },
  {
   "cell_type": "code",
   "execution_count": 72,
   "id": "appointed-services",
   "metadata": {
    "colab": {
     "base_uri": "https://localhost:8080/",
     "height": 0
    },
    "executionInfo": {
     "elapsed": 57,
     "status": "ok",
     "timestamp": 1627855339605,
     "user": {
      "displayName": "Rafael Greca",
      "photoUrl": "",
      "userId": "13108790060757877730"
     },
     "user_tz": 180
    },
    "id": "appointed-services",
    "outputId": "037d553c-34c9-4bc0-fbd2-e87a0ff7f00f"
   },
   "outputs": [
    {
     "data": {
      "text/html": [
       "<div>\n",
       "<style scoped>\n",
       "    .dataframe tbody tr th:only-of-type {\n",
       "        vertical-align: middle;\n",
       "    }\n",
       "\n",
       "    .dataframe tbody tr th {\n",
       "        vertical-align: top;\n",
       "    }\n",
       "\n",
       "    .dataframe thead th {\n",
       "        text-align: right;\n",
       "    }\n",
       "</style>\n",
       "<table border=\"1\" class=\"dataframe\">\n",
       "  <thead>\n",
       "    <tr style=\"text-align: right;\">\n",
       "      <th></th>\n",
       "      <th>label</th>\n",
       "      <th>tweet</th>\n",
       "      <th>cleaned_tweet</th>\n",
       "    </tr>\n",
       "  </thead>\n",
       "  <tbody>\n",
       "    <tr>\n",
       "      <th>0</th>\n",
       "      <td>0</td>\n",
       "      <td>@user when a father is dysfunctional and is s...</td>\n",
       "      <td>@user when a father is dysfunctional and is s...</td>\n",
       "    </tr>\n",
       "    <tr>\n",
       "      <th>1</th>\n",
       "      <td>0</td>\n",
       "      <td>@user @user thanks for #lyft credit i can't us...</td>\n",
       "      <td>@user @user thanks for #lyft credit i can't us...</td>\n",
       "    </tr>\n",
       "    <tr>\n",
       "      <th>2</th>\n",
       "      <td>0</td>\n",
       "      <td>bihday your majesty</td>\n",
       "      <td>bihday your majesty</td>\n",
       "    </tr>\n",
       "    <tr>\n",
       "      <th>3</th>\n",
       "      <td>0</td>\n",
       "      <td>#model   i love u take with u all the time in ...</td>\n",
       "      <td>#model   i love u take with u all the time in ...</td>\n",
       "    </tr>\n",
       "    <tr>\n",
       "      <th>4</th>\n",
       "      <td>0</td>\n",
       "      <td>factsguide: society now    #motivation</td>\n",
       "      <td>factsguide: society now    #motivation</td>\n",
       "    </tr>\n",
       "  </tbody>\n",
       "</table>\n",
       "</div>"
      ],
      "text/plain": [
       "   label  ...                                      cleaned_tweet\n",
       "0      0  ...   @user when a father is dysfunctional and is s...\n",
       "1      0  ...  @user @user thanks for #lyft credit i can't us...\n",
       "2      0  ...                                bihday your majesty\n",
       "3      0  ...  #model   i love u take with u all the time in ...\n",
       "4      0  ...             factsguide: society now    #motivation\n",
       "\n",
       "[5 rows x 3 columns]"
      ]
     },
     "execution_count": 72,
     "metadata": {
      "tags": []
     },
     "output_type": "execute_result"
    }
   ],
   "source": [
    "data_resampled = text_augmentation(data, 'randomoversampler')\n",
    "data.head()"
   ]
  },
  {
   "cell_type": "code",
   "execution_count": 73,
   "id": "acquired-trance",
   "metadata": {
    "colab": {
     "base_uri": "https://localhost:8080/"
    },
    "executionInfo": {
     "elapsed": 56,
     "status": "ok",
     "timestamp": 1627855339609,
     "user": {
      "displayName": "Rafael Greca",
      "photoUrl": "",
      "userId": "13108790060757877730"
     },
     "user_tz": 180
    },
    "id": "acquired-trance",
    "outputId": "65bfc723-c1ec-4961-8925-6f76043ac516"
   },
   "outputs": [
    {
     "data": {
      "text/plain": [
       "(59440, 2)"
      ]
     },
     "execution_count": 73,
     "metadata": {
      "tags": []
     },
     "output_type": "execute_result"
    }
   ],
   "source": [
    "data_resampled.shape"
   ]
  },
  {
   "cell_type": "code",
   "execution_count": 74,
   "id": "difficult-enhancement",
   "metadata": {
    "colab": {
     "base_uri": "https://localhost:8080/",
     "height": 0
    },
    "executionInfo": {
     "elapsed": 400,
     "status": "ok",
     "timestamp": 1627855339957,
     "user": {
      "displayName": "Rafael Greca",
      "photoUrl": "",
      "userId": "13108790060757877730"
     },
     "user_tz": 180
    },
    "id": "difficult-enhancement",
    "outputId": "cc1509cc-4325-420f-c83d-af3d9bd3e9b6"
   },
   "outputs": [
    {
     "data": {
      "image/png": "[encoded data removed]",
      "text/plain": [
       "<Figure size 504x432 with 1 Axes>"
      ]
     },
     "metadata": {
      "tags": []
     },
     "output_type": "display_data"
    }
   ],
   "source": [
    "plt.figure(figsize=(7, 6))\n",
    "sns.countplot(data=data_resampled, x='label', color='cornflowerblue')\n",
    "plt.xlabel('Classe', fontsize=13)\n",
    "plt.ylabel('Quantidade de mensagens', fontsize=13)\n",
    "plt.savefig('Images/nova_distribuição_dados_ros.png')"
   ]
  },
  {
   "cell_type": "code",
   "execution_count": 75,
   "id": "blocked-canadian",
   "metadata": {
    "colab": {
     "base_uri": "https://localhost:8080/"
    },
    "executionInfo": {
     "elapsed": 15,
     "status": "ok",
     "timestamp": 1627855339960,
     "user": {
      "displayName": "Rafael Greca",
      "photoUrl": "",
      "userId": "13108790060757877730"
     },
     "user_tz": 180
    },
    "id": "blocked-canadian",
    "outputId": "b7c37b52-85a5-476f-b431-11a971a4b58e"
   },
   "outputs": [
    {
     "data": {
      "text/plain": [
       "1    29720\n",
       "0    29720\n",
       "Name: label, dtype: int64"
      ]
     },
     "execution_count": 75,
     "metadata": {
      "tags": []
     },
     "output_type": "execute_result"
    }
   ],
   "source": [
    "data_resampled['label'].value_counts()"
   ]
  },
  {
   "cell_type": "code",
   "execution_count": 76,
   "id": "revolutionary-bolivia",
   "metadata": {
    "executionInfo": {
     "elapsed": 15,
     "status": "ok",
     "timestamp": 1627855339963,
     "user": {
      "displayName": "Rafael Greca",
      "photoUrl": "",
      "userId": "13108790060757877730"
     },
     "user_tz": 180
    },
    "id": "revolutionary-bolivia"
   },
   "outputs": [],
   "source": [
    "X_train, X_test, y_train, y_test = train_test_split(data_resampled['cleaned_tweet'],\n",
    "                                                    data_resampled['label'],\n",
    "                                                    test_size=0.2,\n",
    "                                                    random_state=23)"
   ]
  },
  {
   "cell_type": "code",
   "execution_count": 77,
   "id": "three-gauge",
   "metadata": {
    "executionInfo": {
     "elapsed": 2650,
     "status": "ok",
     "timestamp": 1627855342600,
     "user": {
      "displayName": "Rafael Greca",
      "photoUrl": "",
      "userId": "13108790060757877730"
     },
     "user_tz": 180
    },
    "id": "three-gauge"
   },
   "outputs": [],
   "source": [
    "X_train, X_test, max_len, tokenizer = processing(X_train, X_test)"
   ]
  },
  {
   "cell_type": "code",
   "execution_count": 78,
   "id": "theoretical-grace",
   "metadata": {
    "colab": {
     "base_uri": "https://localhost:8080/"
    },
    "executionInfo": {
     "elapsed": 21,
     "status": "ok",
     "timestamp": 1627855342607,
     "user": {
      "displayName": "Rafael Greca",
      "photoUrl": "",
      "userId": "13108790060757877730"
     },
     "user_tz": 180
    },
    "id": "theoretical-grace",
    "outputId": "99a8485c-13db-4593-b335-e63eac1af458"
   },
   "outputs": [
    {
     "name": "stdout",
     "output_type": "stream",
     "text": [
      "Model: \"sequential_3\"\n",
      "_________________________________________________________________\n",
      "Layer (type)                 Output Shape              Param #   \n",
      "=================================================================\n",
      "embedding_3 (Embedding)      (None, 100, 50)           1996400   \n",
      "_________________________________________________________________\n",
      "conv1d_3 (Conv1D)            (None, 100, 64)           16064     \n",
      "_________________________________________________________________\n",
      "global_max_pooling1d_3 (Glob (None, 64)                0         \n",
      "_________________________________________________________________\n",
      "dense_3 (Dense)              (None, 1)                 65        \n",
      "=================================================================\n",
      "Total params: 2,012,529\n",
      "Trainable params: 2,012,529\n",
      "Non-trainable params: 0\n",
      "_________________________________________________________________\n"
     ]
    }
   ],
   "source": [
    "model = create_model(max_len)\n",
    "model.summary()"
   ]
  },
  {
   "cell_type": "code",
   "execution_count": 79,
   "id": "anonymous-creek",
   "metadata": {
    "colab": {
     "base_uri": "https://localhost:8080/"
    },
    "executionInfo": {
     "elapsed": 622989,
     "status": "ok",
     "timestamp": 1627855965586,
     "user": {
      "displayName": "Rafael Greca",
      "photoUrl": "",
      "userId": "13108790060757877730"
     },
     "user_tz": 180
    },
    "id": "anonymous-creek",
    "outputId": "385eb4f5-f1d7-483b-8321-e3377575aa20"
   },
   "outputs": [
    {
     "name": "stdout",
     "output_type": "stream",
     "text": [
      "Epoch 1/5\n",
      "4756/4756 [==============================] - 118s 25ms/step - loss: 0.2471 - accuracy: 0.8908 - val_loss: 0.0379 - val_accuracy: 0.9868\n",
      "Epoch 2/5\n",
      "4756/4756 [==============================] - 113s 24ms/step - loss: 0.0169 - accuracy: 0.9952 - val_loss: 0.0275 - val_accuracy: 0.9915\n",
      "Epoch 3/5\n",
      "4756/4756 [==============================] - 117s 25ms/step - loss: 0.0035 - accuracy: 0.9990 - val_loss: 0.0120 - val_accuracy: 0.9968\n",
      "Epoch 4/5\n",
      "4756/4756 [==============================] - 113s 24ms/step - loss: 0.0014 - accuracy: 0.9997 - val_loss: 0.0200 - val_accuracy: 0.9951\n",
      "Epoch 5/5\n",
      "4756/4756 [==============================] - 117s 25ms/step - loss: 5.7756e-04 - accuracy: 0.9999 - val_loss: 0.0290 - val_accuracy: 0.9930\n",
      "CPU times: user 15min 4s, sys: 55.7 s, total: 16min\n",
      "Wall time: 10min 22s\n"
     ]
    }
   ],
   "source": [
    "%%time\n",
    "history = model.fit(X_train, y_train,\n",
    "                    epochs=5,\n",
    "                    validation_data=(X_test, y_test),\n",
    "                    batch_size=10)"
   ]
  },
  {
   "cell_type": "code",
   "execution_count": 80,
   "id": "acceptable-characterization",
   "metadata": {
    "colab": {
     "base_uri": "https://localhost:8080/",
     "height": 0
    },
    "executionInfo": {
     "elapsed": 7308,
     "status": "ok",
     "timestamp": 1627855972855,
     "user": {
      "displayName": "Rafael Greca",
      "photoUrl": "",
      "userId": "13108790060757877730"
     },
     "user_tz": 180
    },
    "id": "acceptable-characterization",
    "outputId": "0bf70e9c-96dc-486e-cc51-efac2fdbfad9"
   },
   "outputs": [
    {
     "name": "stdout",
     "output_type": "stream",
     "text": [
      "Training Accuracy: 0.9999\n",
      "Testing Accuracy:  0.9930\n"
     ]
    },
    {
     "data": {
      "image/png": "[encoded data removed]",
      "text/plain": [
       "<Figure size 432x288 with 1 Axes>"
      ]
     },
     "metadata": {
      "tags": []
     },
     "output_type": "display_data"
    },
    {
     "data": {
      "image/png": "[encoded data removed]",
      "text/plain": [
       "<Figure size 432x288 with 1 Axes>"
      ]
     },
     "metadata": {
      "tags": []
     },
     "output_type": "display_data"
    }
   ],
   "source": [
    "plot_model(model, data_augmentation='ros')"
   ]
  },
  {
   "cell_type": "code",
   "execution_count": 81,
   "id": "latter-calendar",
   "metadata": {
    "executionInfo": {
     "elapsed": 2551,
     "status": "ok",
     "timestamp": 1627855975391,
     "user": {
      "displayName": "Rafael Greca",
      "photoUrl": "",
      "userId": "13108790060757877730"
     },
     "user_tz": 180
    },
    "id": "latter-calendar"
   },
   "outputs": [],
   "source": [
    "submission(model, tokenizer, 'Submissions/submission_ros.csv')"
   ]
  },
  {
   "cell_type": "markdown",
   "id": "arabic-campaign",
   "metadata": {
    "id": "arabic-campaign"
   },
   "source": [
    "### SMOTE"
   ]
  },
  {
   "cell_type": "code",
   "execution_count": 82,
   "id": "chubby-marriage",
   "metadata": {
    "executionInfo": {
     "elapsed": 27,
     "status": "ok",
     "timestamp": 1627855975393,
     "user": {
      "displayName": "Rafael Greca",
      "photoUrl": "",
      "userId": "13108790060757877730"
     },
     "user_tz": 180
    },
    "id": "chubby-marriage"
   },
   "outputs": [],
   "source": [
    "data = pd.read_csv('Data/train.csv')\n",
    "data = data.drop(columns=['id'])"
   ]
  },
  {
   "cell_type": "code",
   "execution_count": 83,
   "id": "duplicate-crisis",
   "metadata": {
    "colab": {
     "base_uri": "https://localhost:8080/"
    },
    "executionInfo": {
     "elapsed": 25,
     "status": "ok",
     "timestamp": 1627855975397,
     "user": {
      "displayName": "Rafael Greca",
      "photoUrl": "",
      "userId": "13108790060757877730"
     },
     "user_tz": 180
    },
    "id": "duplicate-crisis",
    "outputId": "5e9440d1-8ecc-4605-873f-3e2918942c6b"
   },
   "outputs": [
    {
     "name": "stdout",
     "output_type": "stream",
     "text": [
      "CPU times: user 23.9 ms, sys: 1.01 ms, total: 24.9 ms\n",
      "Wall time: 25 ms\n"
     ]
    }
   ],
   "source": [
    "%%time\n",
    "data['cleaned_tweet'] = data['tweet'].apply(lowercase)\n",
    "data.head()"
   ]
  },
  {
   "cell_type": "code",
   "execution_count": 84,
   "id": "meaning-powell",
   "metadata": {
    "executionInfo": {
     "elapsed": 768,
     "status": "ok",
     "timestamp": 1627855976150,
     "user": {
      "displayName": "Rafael Greca",
      "photoUrl": "",
      "userId": "13108790060757877730"
     },
     "user_tz": 180
    },
    "id": "meaning-powell"
   },
   "outputs": [],
   "source": [
    "tokenizer = Tokenizer(num_words=5000)\n",
    "tokenizer.fit_on_texts(data)\n",
    "\n",
    "data['cleaned_tweet'] = tokenizer.texts_to_sequences(data['cleaned_tweet'])\n",
    "vocab_size = len(tokenizer.word_index) + 1\n",
    "\n",
    "maxlen = 100\n",
    "\n",
    "data['cleaned_tweet'] = pad_sequences(data['cleaned_tweet'], padding='post', maxlen=maxlen)"
   ]
  },
  {
   "cell_type": "code",
   "execution_count": 85,
   "id": "unusual-plaza",
   "metadata": {
    "executionInfo": {
     "elapsed": 25,
     "status": "ok",
     "timestamp": 1627855976153,
     "user": {
      "displayName": "Rafael Greca",
      "photoUrl": "",
      "userId": "13108790060757877730"
     },
     "user_tz": 180
    },
    "id": "unusual-plaza"
   },
   "outputs": [],
   "source": [
    "data_resampled = text_augmentation(data, 'smote')"
   ]
  },
  {
   "cell_type": "code",
   "execution_count": 86,
   "id": "ranging-bonus",
   "metadata": {
    "colab": {
     "base_uri": "https://localhost:8080/"
    },
    "executionInfo": {
     "elapsed": 23,
     "status": "ok",
     "timestamp": 1627855976156,
     "user": {
      "displayName": "Rafael Greca",
      "photoUrl": "",
      "userId": "13108790060757877730"
     },
     "user_tz": 180
    },
    "id": "ranging-bonus",
    "outputId": "e8209e3c-b5d1-4c21-d6a2-7fdb5aec094e"
   },
   "outputs": [
    {
     "data": {
      "text/plain": [
       "(59440, 2)"
      ]
     },
     "execution_count": 86,
     "metadata": {
      "tags": []
     },
     "output_type": "execute_result"
    }
   ],
   "source": [
    "data_resampled.shape"
   ]
  },
  {
   "cell_type": "code",
   "execution_count": 87,
   "id": "hungry-hamilton",
   "metadata": {
    "colab": {
     "base_uri": "https://localhost:8080/",
     "height": 0
    },
    "executionInfo": {
     "elapsed": 440,
     "status": "ok",
     "timestamp": 1627855976582,
     "user": {
      "displayName": "Rafael Greca",
      "photoUrl": "",
      "userId": "13108790060757877730"
     },
     "user_tz": 180
    },
    "id": "hungry-hamilton",
    "outputId": "9f167846-686d-4093-9af3-1313c976c557"
   },
   "outputs": [
    {
     "data": {
      "image/png": "[encoded data removed]",
      "text/plain": [
       "<Figure size 504x432 with 1 Axes>"
      ]
     },
     "metadata": {
      "tags": []
     },
     "output_type": "display_data"
    }
   ],
   "source": [
    "plt.figure(figsize=(7, 6))\n",
    "sns.countplot(data=data_resampled, x='label', color='cornflowerblue')\n",
    "plt.xlabel('Classe', fontsize=13)\n",
    "plt.ylabel('Quantidade de mensagens', fontsize=13)\n",
    "plt.savefig('Images/nova_distribuição_dados_smote.png')"
   ]
  },
  {
   "cell_type": "code",
   "execution_count": 88,
   "id": "geographic-classification",
   "metadata": {
    "colab": {
     "base_uri": "https://localhost:8080/"
    },
    "executionInfo": {
     "elapsed": 26,
     "status": "ok",
     "timestamp": 1627855976583,
     "user": {
      "displayName": "Rafael Greca",
      "photoUrl": "",
      "userId": "13108790060757877730"
     },
     "user_tz": 180
    },
    "id": "geographic-classification",
    "outputId": "5ff17878-0817-4c5b-bbfd-6a890264f960"
   },
   "outputs": [
    {
     "data": {
      "text/plain": [
       "1    29720\n",
       "0    29720\n",
       "Name: label, dtype: int64"
      ]
     },
     "execution_count": 88,
     "metadata": {
      "tags": []
     },
     "output_type": "execute_result"
    }
   ],
   "source": [
    "data_resampled['label'].value_counts()"
   ]
  },
  {
   "cell_type": "code",
   "execution_count": 89,
   "id": "quiet-submission",
   "metadata": {
    "executionInfo": {
     "elapsed": 21,
     "status": "ok",
     "timestamp": 1627855976586,
     "user": {
      "displayName": "Rafael Greca",
      "photoUrl": "",
      "userId": "13108790060757877730"
     },
     "user_tz": 180
    },
    "id": "quiet-submission"
   },
   "outputs": [],
   "source": [
    "X_train, X_test, y_train, y_test = train_test_split(data_resampled['cleaned_tweet'], \n",
    "                                                    data_resampled['label'], \n",
    "                                                    test_size=0.2,\n",
    "                                                    random_state=23)"
   ]
  },
  {
   "cell_type": "code",
   "execution_count": 90,
   "id": "familiar-titanium",
   "metadata": {
    "colab": {
     "base_uri": "https://localhost:8080/"
    },
    "executionInfo": {
     "elapsed": 19,
     "status": "ok",
     "timestamp": 1627855976588,
     "user": {
      "displayName": "Rafael Greca",
      "photoUrl": "",
      "userId": "13108790060757877730"
     },
     "user_tz": 180
    },
    "id": "familiar-titanium",
    "outputId": "1576e880-f8cf-4f34-9bca-acf7cb92d21d"
   },
   "outputs": [
    {
     "name": "stdout",
     "output_type": "stream",
     "text": [
      "Model: \"sequential_4\"\n",
      "_________________________________________________________________\n",
      "Layer (type)                 Output Shape              Param #   \n",
      "=================================================================\n",
      "embedding_4 (Embedding)      (None, 100, 50)           1996400   \n",
      "_________________________________________________________________\n",
      "conv1d_4 (Conv1D)            (None, 100, 64)           16064     \n",
      "_________________________________________________________________\n",
      "global_max_pooling1d_4 (Glob (None, 64)                0         \n",
      "_________________________________________________________________\n",
      "dense_4 (Dense)              (None, 1)                 65        \n",
      "=================================================================\n",
      "Total params: 2,012,529\n",
      "Trainable params: 2,012,529\n",
      "Non-trainable params: 0\n",
      "_________________________________________________________________\n"
     ]
    }
   ],
   "source": [
    "model = create_model(max_len)\n",
    "model.summary()"
   ]
  },
  {
   "cell_type": "code",
   "execution_count": 91,
   "id": "gentle-wisdom",
   "metadata": {
    "colab": {
     "base_uri": "https://localhost:8080/"
    },
    "executionInfo": {
     "elapsed": 482257,
     "status": "ok",
     "timestamp": 1627856458829,
     "user": {
      "displayName": "Rafael Greca",
      "photoUrl": "",
      "userId": "13108790060757877730"
     },
     "user_tz": 180
    },
    "id": "gentle-wisdom",
    "outputId": "3e7c45d5-f9de-4078-d0fb-551f57666fa4"
   },
   "outputs": [
    {
     "name": "stdout",
     "output_type": "stream",
     "text": [
      "Epoch 1/5\n",
      "WARNING:tensorflow:Model was constructed with shape (None, 100) for input KerasTensor(type_spec=TensorSpec(shape=(None, 100), dtype=tf.float32, name='embedding_4_input'), name='embedding_4_input', description=\"created by layer 'embedding_4_input'\"), but it was called on an input with incompatible shape (None, 1).\n",
      "WARNING:tensorflow:Model was constructed with shape (None, 100) for input KerasTensor(type_spec=TensorSpec(shape=(None, 100), dtype=tf.float32, name='embedding_4_input'), name='embedding_4_input', description=\"created by layer 'embedding_4_input'\"), but it was called on an input with incompatible shape (None, 1).\n",
      "4754/4756 [============================>.] - ETA: 0s - loss: 0.6929 - accuracy: 0.5010WARNING:tensorflow:Model was constructed with shape (None, 100) for input KerasTensor(type_spec=TensorSpec(shape=(None, 100), dtype=tf.float32, name='embedding_4_input'), name='embedding_4_input', description=\"created by layer 'embedding_4_input'\"), but it was called on an input with incompatible shape (None, 1).\n",
      "4756/4756 [==============================] - 97s 20ms/step - loss: 0.6929 - accuracy: 0.5010 - val_loss: 0.6935 - val_accuracy: 0.4997\n",
      "Epoch 2/5\n",
      "4756/4756 [==============================] - 94s 20ms/step - loss: 0.6927 - accuracy: 0.5046 - val_loss: 0.6931 - val_accuracy: 0.5020\n",
      "Epoch 3/5\n",
      "4756/4756 [==============================] - 96s 20ms/step - loss: 0.6928 - accuracy: 0.4965 - val_loss: 0.6932 - val_accuracy: 0.4997\n",
      "Epoch 4/5\n",
      "4756/4756 [==============================] - 98s 21ms/step - loss: 0.6929 - accuracy: 0.4989 - val_loss: 0.6942 - val_accuracy: 0.5020\n",
      "Epoch 5/5\n",
      "4756/4756 [==============================] - 97s 20ms/step - loss: 0.6927 - accuracy: 0.5024 - val_loss: 0.6936 - val_accuracy: 0.4997\n",
      "CPU times: user 12min 37s, sys: 35.2 s, total: 13min 12s\n",
      "Wall time: 8min 2s\n"
     ]
    }
   ],
   "source": [
    "%%time\n",
    "history = model.fit(X_train, y_train,\n",
    "                    epochs=5,\n",
    "                    validation_data=(X_test, y_test),\n",
    "                    batch_size=10)"
   ]
  },
  {
   "cell_type": "code",
   "execution_count": 92,
   "id": "significant-insured",
   "metadata": {
    "colab": {
     "base_uri": "https://localhost:8080/",
     "height": 0
    },
    "executionInfo": {
     "elapsed": 3255,
     "status": "ok",
     "timestamp": 1627856462067,
     "user": {
      "displayName": "Rafael Greca",
      "photoUrl": "",
      "userId": "13108790060757877730"
     },
     "user_tz": 180
    },
    "id": "significant-insured",
    "outputId": "d9df7992-d09d-4ba6-8452-015b8a442a4e"
   },
   "outputs": [
    {
     "name": "stdout",
     "output_type": "stream",
     "text": [
      "WARNING:tensorflow:Model was constructed with shape (None, 100) for input KerasTensor(type_spec=TensorSpec(shape=(None, 100), dtype=tf.float32, name='embedding_4_input'), name='embedding_4_input', description=\"created by layer 'embedding_4_input'\"), but it was called on an input with incompatible shape (32, 1).\n",
      "Training Accuracy: 0.5029\n",
      "Testing Accuracy:  0.4997\n"
     ]
    },
    {
     "data": {
      "image/png": "[encoded data removed]",
      "text/plain": [
       "<Figure size 432x288 with 1 Axes>"
      ]
     },
     "metadata": {
      "tags": []
     },
     "output_type": "display_data"
    },
    {
     "data": {
      "image/png": "[encoded data removed]",
      "text/plain": [
       "<Figure size 432x288 with 1 Axes>"
      ]
     },
     "metadata": {
      "tags": []
     },
     "output_type": "display_data"
    }
   ],
   "source": [
    "plot_model(model, data_augmentation='smote')"
   ]
  },
  {
   "cell_type": "code",
   "execution_count": 93,
   "id": "laughing-position",
   "metadata": {
    "executionInfo": {
     "elapsed": 1970,
     "status": "ok",
     "timestamp": 1627856464025,
     "user": {
      "displayName": "Rafael Greca",
      "photoUrl": "",
      "userId": "13108790060757877730"
     },
     "user_tz": 180
    },
    "id": "laughing-position"
   },
   "outputs": [],
   "source": [
    "submission(model, tokenizer, 'Submissions/submission_smote.csv')"
   ]
  },
  {
   "cell_type": "markdown",
   "id": "viral-curve",
   "metadata": {
    "id": "viral-curve"
   },
   "source": [
    "### SMOTETomek"
   ]
  },
  {
   "cell_type": "code",
   "execution_count": 94,
   "id": "disciplinary-reviewer",
   "metadata": {
    "executionInfo": {
     "elapsed": 32,
     "status": "ok",
     "timestamp": 1627856464031,
     "user": {
      "displayName": "Rafael Greca",
      "photoUrl": "",
      "userId": "13108790060757877730"
     },
     "user_tz": 180
    },
    "id": "disciplinary-reviewer"
   },
   "outputs": [],
   "source": [
    "data = pd.read_csv('Data/train.csv')\n",
    "data = data.drop(columns=['id'])"
   ]
  },
  {
   "cell_type": "code",
   "execution_count": 95,
   "id": "aboriginal-communication",
   "metadata": {
    "colab": {
     "base_uri": "https://localhost:8080/"
    },
    "executionInfo": {
     "elapsed": 31,
     "status": "ok",
     "timestamp": 1627856464034,
     "user": {
      "displayName": "Rafael Greca",
      "photoUrl": "",
      "userId": "13108790060757877730"
     },
     "user_tz": 180
    },
    "id": "aboriginal-communication",
    "outputId": "f8d076fb-ff8f-4060-d49e-c83bc4c8faac"
   },
   "outputs": [
    {
     "name": "stdout",
     "output_type": "stream",
     "text": [
      "CPU times: user 23.2 ms, sys: 40 µs, total: 23.2 ms\n",
      "Wall time: 23.8 ms\n"
     ]
    }
   ],
   "source": [
    "%%time\n",
    "data['cleaned_tweet'] = data['tweet'].apply(lowercase)\n",
    "data.head()"
   ]
  },
  {
   "cell_type": "code",
   "execution_count": 96,
   "id": "historical-stick",
   "metadata": {
    "executionInfo": {
     "elapsed": 1981,
     "status": "ok",
     "timestamp": 1627856465992,
     "user": {
      "displayName": "Rafael Greca",
      "photoUrl": "",
      "userId": "13108790060757877730"
     },
     "user_tz": 180
    },
    "id": "historical-stick"
   },
   "outputs": [],
   "source": [
    "tokenizer = Tokenizer(num_words=5000)\n",
    "tokenizer.fit_on_texts(data['cleaned_tweet'])\n",
    "\n",
    "data['cleaned_tweet'] = tokenizer.texts_to_sequences(data['cleaned_tweet'])\n",
    "vocab_size = len(tokenizer.word_index) + 1\n",
    "\n",
    "maxlen = 100\n",
    "\n",
    "data['cleaned_tweet'] = pad_sequences(data['cleaned_tweet'], padding='post', maxlen=maxlen)"
   ]
  },
  {
   "cell_type": "code",
   "execution_count": 97,
   "id": "helpful-firmware",
   "metadata": {
    "executionInfo": {
     "elapsed": 3261,
     "status": "ok",
     "timestamp": 1627856469235,
     "user": {
      "displayName": "Rafael Greca",
      "photoUrl": "",
      "userId": "13108790060757877730"
     },
     "user_tz": 180
    },
    "id": "helpful-firmware"
   },
   "outputs": [],
   "source": [
    "data_resampled = text_augmentation(data, 'smotetomek')"
   ]
  },
  {
   "cell_type": "code",
   "execution_count": 98,
   "id": "sitting-think",
   "metadata": {
    "colab": {
     "base_uri": "https://localhost:8080/"
    },
    "executionInfo": {
     "elapsed": 21,
     "status": "ok",
     "timestamp": 1627856469236,
     "user": {
      "displayName": "Rafael Greca",
      "photoUrl": "",
      "userId": "13108790060757877730"
     },
     "user_tz": 180
    },
    "id": "sitting-think",
    "outputId": "3ac5c5a0-5644-4bae-8de5-3967b054ddb9"
   },
   "outputs": [
    {
     "data": {
      "text/plain": [
       "(59338, 2)"
      ]
     },
     "execution_count": 98,
     "metadata": {
      "tags": []
     },
     "output_type": "execute_result"
    }
   ],
   "source": [
    "data_resampled.shape"
   ]
  },
  {
   "cell_type": "code",
   "execution_count": 99,
   "id": "ceramic-circumstances",
   "metadata": {
    "colab": {
     "base_uri": "https://localhost:8080/",
     "height": 0
    },
    "executionInfo": {
     "elapsed": 575,
     "status": "ok",
     "timestamp": 1627856469802,
     "user": {
      "displayName": "Rafael Greca",
      "photoUrl": "",
      "userId": "13108790060757877730"
     },
     "user_tz": 180
    },
    "id": "ceramic-circumstances",
    "outputId": "4b15407e-372e-44e6-afa2-56b0cac51570"
   },
   "outputs": [
    {
     "data": {
      "image/png": "[encoded data removed]",
      "text/plain": [
       "<Figure size 504x432 with 1 Axes>"
      ]
     },
     "metadata": {
      "tags": []
     },
     "output_type": "display_data"
    }
   ],
   "source": [
    "plt.figure(figsize=(7, 6))\n",
    "sns.countplot(data=data_resampled, x='label', color='cornflowerblue')\n",
    "plt.xlabel('Classe', fontsize=13)\n",
    "plt.ylabel('Quantidade de mensagens', fontsize=13)\n",
    "plt.savefig('Images/nova_distribuição_dados_smotetomek.png')"
   ]
  },
  {
   "cell_type": "code",
   "execution_count": 100,
   "id": "moving-trout",
   "metadata": {
    "colab": {
     "base_uri": "https://localhost:8080/"
    },
    "executionInfo": {
     "elapsed": 29,
     "status": "ok",
     "timestamp": 1627856469804,
     "user": {
      "displayName": "Rafael Greca",
      "photoUrl": "",
      "userId": "13108790060757877730"
     },
     "user_tz": 180
    },
    "id": "moving-trout",
    "outputId": "5232def9-4862-4d44-f2d2-dd3d1372db6b"
   },
   "outputs": [
    {
     "data": {
      "text/plain": [
       "1    29669\n",
       "0    29669\n",
       "Name: label, dtype: int64"
      ]
     },
     "execution_count": 100,
     "metadata": {
      "tags": []
     },
     "output_type": "execute_result"
    }
   ],
   "source": [
    "data_resampled['label'].value_counts()"
   ]
  },
  {
   "cell_type": "code",
   "execution_count": 101,
   "id": "classified-capability",
   "metadata": {
    "executionInfo": {
     "elapsed": 29,
     "status": "ok",
     "timestamp": 1627856469808,
     "user": {
      "displayName": "Rafael Greca",
      "photoUrl": "",
      "userId": "13108790060757877730"
     },
     "user_tz": 180
    },
    "id": "classified-capability"
   },
   "outputs": [],
   "source": [
    "X_train, X_test, y_train, y_test = train_test_split(data_resampled['cleaned_tweet'],\n",
    "                                                    data_resampled['label'],\n",
    "                                                    test_size=0.2,\n",
    "                                                    random_state=23)"
   ]
  },
  {
   "cell_type": "code",
   "execution_count": 102,
   "id": "developed-edwards",
   "metadata": {
    "colab": {
     "base_uri": "https://localhost:8080/"
    },
    "executionInfo": {
     "elapsed": 28,
     "status": "ok",
     "timestamp": 1627856469811,
     "user": {
      "displayName": "Rafael Greca",
      "photoUrl": "",
      "userId": "13108790060757877730"
     },
     "user_tz": 180
    },
    "id": "developed-edwards",
    "outputId": "a0ce6063-9eff-462a-d846-0ee4e6fff6c3"
   },
   "outputs": [
    {
     "name": "stdout",
     "output_type": "stream",
     "text": [
      "Model: \"sequential_5\"\n",
      "_________________________________________________________________\n",
      "Layer (type)                 Output Shape              Param #   \n",
      "=================================================================\n",
      "embedding_5 (Embedding)      (None, 100, 50)           1996400   \n",
      "_________________________________________________________________\n",
      "conv1d_5 (Conv1D)            (None, 100, 64)           16064     \n",
      "_________________________________________________________________\n",
      "global_max_pooling1d_5 (Glob (None, 64)                0         \n",
      "_________________________________________________________________\n",
      "dense_5 (Dense)              (None, 1)                 65        \n",
      "=================================================================\n",
      "Total params: 2,012,529\n",
      "Trainable params: 2,012,529\n",
      "Non-trainable params: 0\n",
      "_________________________________________________________________\n"
     ]
    }
   ],
   "source": [
    "model = create_model(max_len)\n",
    "model.summary()"
   ]
  },
  {
   "cell_type": "code",
   "execution_count": 103,
   "id": "partial-killer",
   "metadata": {
    "colab": {
     "base_uri": "https://localhost:8080/"
    },
    "executionInfo": {
     "elapsed": 454046,
     "status": "ok",
     "timestamp": 1627856923833,
     "user": {
      "displayName": "Rafael Greca",
      "photoUrl": "",
      "userId": "13108790060757877730"
     },
     "user_tz": 180
    },
    "id": "partial-killer",
    "outputId": "495b3886-f0ae-4166-e603-d2a1c3531e49"
   },
   "outputs": [
    {
     "name": "stdout",
     "output_type": "stream",
     "text": [
      "Epoch 1/5\n",
      "WARNING:tensorflow:Model was constructed with shape (None, 100) for input KerasTensor(type_spec=TensorSpec(shape=(None, 100), dtype=tf.float32, name='embedding_5_input'), name='embedding_5_input', description=\"created by layer 'embedding_5_input'\"), but it was called on an input with incompatible shape (10, 1).\n",
      "WARNING:tensorflow:Model was constructed with shape (None, 100) for input KerasTensor(type_spec=TensorSpec(shape=(None, 100), dtype=tf.float32, name='embedding_5_input'), name='embedding_5_input', description=\"created by layer 'embedding_5_input'\"), but it was called on an input with incompatible shape (10, 1).\n",
      "4746/4747 [============================>.] - ETA: 0s - loss: 0.5767 - accuracy: 0.6957WARNING:tensorflow:Model was constructed with shape (None, 100) for input KerasTensor(type_spec=TensorSpec(shape=(None, 100), dtype=tf.float32, name='embedding_5_input'), name='embedding_5_input', description=\"created by layer 'embedding_5_input'\"), but it was called on an input with incompatible shape (None, 1).\n",
      "4747/4747 [==============================] - 92s 19ms/step - loss: 0.5766 - accuracy: 0.6957 - val_loss: 0.5307 - val_accuracy: 0.7251\n",
      "Epoch 2/5\n",
      "4747/4747 [==============================] - 93s 20ms/step - loss: 0.5008 - accuracy: 0.7523 - val_loss: 0.5299 - val_accuracy: 0.7258\n",
      "Epoch 3/5\n",
      "4747/4747 [==============================] - 90s 19ms/step - loss: 0.4868 - accuracy: 0.7583 - val_loss: 0.5345 - val_accuracy: 0.7274\n",
      "Epoch 4/5\n",
      "4747/4747 [==============================] - 90s 19ms/step - loss: 0.4848 - accuracy: 0.7568 - val_loss: 0.5326 - val_accuracy: 0.7281\n",
      "Epoch 5/5\n",
      "4747/4747 [==============================] - 89s 19ms/step - loss: 0.4859 - accuracy: 0.7534 - val_loss: 0.5402 - val_accuracy: 0.7300\n",
      "CPU times: user 11min 47s, sys: 32.4 s, total: 12min 19s\n",
      "Wall time: 7min 34s\n"
     ]
    }
   ],
   "source": [
    "%%time\n",
    "history = model.fit(X_train, y_train,\n",
    "                    epochs=5,\n",
    "                    validation_data=(X_test, y_test),\n",
    "                    batch_size=10)"
   ]
  },
  {
   "cell_type": "code",
   "execution_count": 104,
   "id": "acute-pathology",
   "metadata": {
    "colab": {
     "base_uri": "https://localhost:8080/",
     "height": 0
    },
    "executionInfo": {
     "elapsed": 2660,
     "status": "ok",
     "timestamp": 1627856926467,
     "user": {
      "displayName": "Rafael Greca",
      "photoUrl": "",
      "userId": "13108790060757877730"
     },
     "user_tz": 180
    },
    "id": "acute-pathology",
    "outputId": "c968ec23-2a56-4384-852a-d3ae40e5ca58"
   },
   "outputs": [
    {
     "name": "stdout",
     "output_type": "stream",
     "text": [
      "Training Accuracy: 0.7581\n",
      "Testing Accuracy:  0.7300\n"
     ]
    },
    {
     "data": {
      "image/png": "[encoded data removed]",
      "text/plain": [
       "<Figure size 432x288 with 1 Axes>"
      ]
     },
     "metadata": {
      "tags": []
     },
     "output_type": "display_data"
    },
    {
     "data": {
      "image/png": "[encoded data removed]",
      "text/plain": [
       "<Figure size 432x288 with 1 Axes>"
      ]
     },
     "metadata": {
      "tags": []
     },
     "output_type": "display_data"
    }
   ],
   "source": [
    "plot_model(model, data_augmentation='smotetomek')"
   ]
  },
  {
   "cell_type": "code",
   "execution_count": 105,
   "id": "connected-belly",
   "metadata": {
    "executionInfo": {
     "elapsed": 2099,
     "status": "ok",
     "timestamp": 1627856928556,
     "user": {
      "displayName": "Rafael Greca",
      "photoUrl": "",
      "userId": "13108790060757877730"
     },
     "user_tz": 180
    },
    "id": "connected-belly"
   },
   "outputs": [],
   "source": [
    "submission(model, tokenizer, 'Submissions/submission_smotetomek.csv')"
   ]
  },
  {
   "cell_type": "markdown",
   "id": "military-uganda",
   "metadata": {
    "id": "military-uganda"
   },
   "source": [
    "### NLPAUG"
   ]
  },
  {
   "cell_type": "code",
   "execution_count": 106,
   "id": "multiple-volunteer",
   "metadata": {
    "executionInfo": {
     "elapsed": 97,
     "status": "ok",
     "timestamp": 1627856928591,
     "user": {
      "displayName": "Rafael Greca",
      "photoUrl": "",
      "userId": "13108790060757877730"
     },
     "user_tz": 180
    },
    "id": "multiple-volunteer"
   },
   "outputs": [],
   "source": [
    "data = pd.read_csv('Data/train.csv')\n",
    "data = data.drop(columns=['id'])"
   ]
  },
  {
   "cell_type": "code",
   "execution_count": 107,
   "id": "executed-rover",
   "metadata": {
    "colab": {
     "base_uri": "https://localhost:8080/"
    },
    "executionInfo": {
     "elapsed": 91,
     "status": "ok",
     "timestamp": 1627856928593,
     "user": {
      "displayName": "Rafael Greca",
      "photoUrl": "",
      "userId": "13108790060757877730"
     },
     "user_tz": 180
    },
    "id": "executed-rover",
    "outputId": "dd6ffdf2-833a-4dc7-9932-71c82194b5c1"
   },
   "outputs": [
    {
     "name": "stdout",
     "output_type": "stream",
     "text": [
      "CPU times: user 22.9 ms, sys: 0 ns, total: 22.9 ms\n",
      "Wall time: 23.1 ms\n"
     ]
    }
   ],
   "source": [
    "%%time\n",
    "data['cleaned_tweet'] = data['tweet'].apply(lowercase)\n",
    "data.head()"
   ]
  },
  {
   "cell_type": "code",
   "execution_count": 111,
   "id": "incident-recorder",
   "metadata": {
    "executionInfo": {
     "elapsed": 6753,
     "status": "ok",
     "timestamp": 1627857092904,
     "user": {
      "displayName": "Rafael Greca",
      "photoUrl": "",
      "userId": "13108790060757877730"
     },
     "user_tz": 180
    },
    "id": "incident-recorder"
   },
   "outputs": [],
   "source": [
    "data_resampled = text_augmentation(data, 'nlpaug')"
   ]
  },
  {
   "cell_type": "code",
   "execution_count": 112,
   "id": "intimate-abraham",
   "metadata": {
    "colab": {
     "base_uri": "https://localhost:8080/"
    },
    "executionInfo": {
     "elapsed": 26,
     "status": "ok",
     "timestamp": 1627857092916,
     "user": {
      "displayName": "Rafael Greca",
      "photoUrl": "",
      "userId": "13108790060757877730"
     },
     "user_tz": 180
    },
    "id": "intimate-abraham",
    "outputId": "9fdfb718-d695-44d9-c9f6-352a2b3a00b5"
   },
   "outputs": [
    {
     "data": {
      "text/plain": [
       "(34204, 3)"
      ]
     },
     "execution_count": 112,
     "metadata": {
      "tags": []
     },
     "output_type": "execute_result"
    }
   ],
   "source": [
    "data_resampled.shape"
   ]
  },
  {
   "cell_type": "code",
   "execution_count": 113,
   "id": "reverse-newman",
   "metadata": {
    "colab": {
     "base_uri": "https://localhost:8080/",
     "height": 391
    },
    "executionInfo": {
     "elapsed": 522,
     "status": "ok",
     "timestamp": 1627857093422,
     "user": {
      "displayName": "Rafael Greca",
      "photoUrl": "",
      "userId": "13108790060757877730"
     },
     "user_tz": 180
    },
    "id": "reverse-newman",
    "outputId": "0eb7ea6c-9a9e-4ad3-adb6-73ca46995d86"
   },
   "outputs": [
    {
     "data": {
      "image/png": "[encoded data removed]",
      "text/plain": [
       "<Figure size 504x432 with 1 Axes>"
      ]
     },
     "metadata": {
      "tags": []
     },
     "output_type": "display_data"
    }
   ],
   "source": [
    "plt.figure(figsize=(7, 6))\n",
    "sns.countplot(data=data_resampled, x='label', color='cornflowerblue')\n",
    "plt.xlabel('Classe', fontsize=13)\n",
    "plt.ylabel('Quantidade de mensagens', fontsize=13)\n",
    "plt.savefig('Images/nova_distribuição_dados_nlpaug.png')"
   ]
  },
  {
   "cell_type": "code",
   "execution_count": 114,
   "id": "disciplinary-chaos",
   "metadata": {
    "colab": {
     "base_uri": "https://localhost:8080/"
    },
    "executionInfo": {
     "elapsed": 231,
     "status": "ok",
     "timestamp": 1627857098079,
     "user": {
      "displayName": "Rafael Greca",
      "photoUrl": "",
      "userId": "13108790060757877730"
     },
     "user_tz": 180
    },
    "id": "disciplinary-chaos",
    "outputId": "0be539a4-d3e5-4aaf-a518-8d6d78a5c130"
   },
   "outputs": [
    {
     "data": {
      "text/plain": [
       "0    29720\n",
       "1     4484\n",
       "Name: label, dtype: int64"
      ]
     },
     "execution_count": 114,
     "metadata": {
      "tags": []
     },
     "output_type": "execute_result"
    }
   ],
   "source": [
    "data_resampled['label'].value_counts()"
   ]
  },
  {
   "cell_type": "code",
   "execution_count": 115,
   "id": "graphic-valentine",
   "metadata": {
    "executionInfo": {
     "elapsed": 236,
     "status": "ok",
     "timestamp": 1627857100251,
     "user": {
      "displayName": "Rafael Greca",
      "photoUrl": "",
      "userId": "13108790060757877730"
     },
     "user_tz": 180
    },
    "id": "graphic-valentine"
   },
   "outputs": [],
   "source": [
    "data_resampled['cleaned_tweet'] = data_resampled['cleaned_tweet'].apply(str)"
   ]
  },
  {
   "cell_type": "code",
   "execution_count": 116,
   "id": "global-survey",
   "metadata": {
    "executionInfo": {
     "elapsed": 1861,
     "status": "ok",
     "timestamp": 1627857103934,
     "user": {
      "displayName": "Rafael Greca",
      "photoUrl": "",
      "userId": "13108790060757877730"
     },
     "user_tz": 180
    },
    "id": "global-survey"
   },
   "outputs": [],
   "source": [
    "tokenizer = Tokenizer(num_words=5000)\n",
    "tokenizer.fit_on_texts(data_resampled['cleaned_tweet'])\n",
    "\n",
    "data_resampled['cleaned_tweet'] = tokenizer.texts_to_sequences(data_resampled['cleaned_tweet'])\n",
    "vocab_size = len(tokenizer.word_index) + 1\n",
    "\n",
    "maxlen = 100\n",
    "\n",
    "data_resampled['cleaned_tweet'] = pad_sequences(data_resampled['cleaned_tweet'], padding='post', maxlen=maxlen)"
   ]
  },
  {
   "cell_type": "code",
   "execution_count": 117,
   "id": "standard-buddy",
   "metadata": {
    "executionInfo": {
     "elapsed": 14,
     "status": "ok",
     "timestamp": 1627857103936,
     "user": {
      "displayName": "Rafael Greca",
      "photoUrl": "",
      "userId": "13108790060757877730"
     },
     "user_tz": 180
    },
    "id": "standard-buddy"
   },
   "outputs": [],
   "source": [
    "X_train, X_test, y_train, y_test = train_test_split(data_resampled['cleaned_tweet'],\n",
    "                                                    data_resampled['label'],\n",
    "                                                    test_size=0.2, \n",
    "                                                    random_state=23)"
   ]
  },
  {
   "cell_type": "code",
   "execution_count": 118,
   "id": "muslim-mainstream",
   "metadata": {
    "colab": {
     "base_uri": "https://localhost:8080/"
    },
    "executionInfo": {
     "elapsed": 252,
     "status": "ok",
     "timestamp": 1627857105906,
     "user": {
      "displayName": "Rafael Greca",
      "photoUrl": "",
      "userId": "13108790060757877730"
     },
     "user_tz": 180
    },
    "id": "muslim-mainstream",
    "outputId": "e0eac019-26db-41cc-f9a3-9f482b88e00a"
   },
   "outputs": [
    {
     "name": "stdout",
     "output_type": "stream",
     "text": [
      "Model: \"sequential_6\"\n",
      "_________________________________________________________________\n",
      "Layer (type)                 Output Shape              Param #   \n",
      "=================================================================\n",
      "embedding_6 (Embedding)      (None, 100, 50)           1996400   \n",
      "_________________________________________________________________\n",
      "conv1d_6 (Conv1D)            (None, 100, 64)           16064     \n",
      "_________________________________________________________________\n",
      "global_max_pooling1d_6 (Glob (None, 64)                0         \n",
      "_________________________________________________________________\n",
      "dense_6 (Dense)              (None, 1)                 65        \n",
      "=================================================================\n",
      "Total params: 2,012,529\n",
      "Trainable params: 2,012,529\n",
      "Non-trainable params: 0\n",
      "_________________________________________________________________\n"
     ]
    }
   ],
   "source": [
    "model = create_model(max_len)\n",
    "model.summary()"
   ]
  },
  {
   "cell_type": "code",
   "execution_count": 119,
   "id": "assigned-poverty",
   "metadata": {
    "colab": {
     "base_uri": "https://localhost:8080/"
    },
    "executionInfo": {
     "elapsed": 323135,
     "status": "ok",
     "timestamp": 1627857431628,
     "user": {
      "displayName": "Rafael Greca",
      "photoUrl": "",
      "userId": "13108790060757877730"
     },
     "user_tz": 180
    },
    "id": "assigned-poverty",
    "outputId": "6c1738e1-2563-4ae2-fe73-bb85cac04289"
   },
   "outputs": [
    {
     "name": "stdout",
     "output_type": "stream",
     "text": [
      "Epoch 1/5\n",
      "WARNING:tensorflow:Model was constructed with shape (None, 100) for input KerasTensor(type_spec=TensorSpec(shape=(None, 100), dtype=tf.float32, name='embedding_6_input'), name='embedding_6_input', description=\"created by layer 'embedding_6_input'\"), but it was called on an input with incompatible shape (None, 1).\n",
      "WARNING:tensorflow:Model was constructed with shape (None, 100) for input KerasTensor(type_spec=TensorSpec(shape=(None, 100), dtype=tf.float32, name='embedding_6_input'), name='embedding_6_input', description=\"created by layer 'embedding_6_input'\"), but it was called on an input with incompatible shape (None, 1).\n",
      "2735/2737 [============================>.] - ETA: 0s - loss: 0.2729 - accuracy: 0.9287WARNING:tensorflow:Model was constructed with shape (None, 100) for input KerasTensor(type_spec=TensorSpec(shape=(None, 100), dtype=tf.float32, name='embedding_6_input'), name='embedding_6_input', description=\"created by layer 'embedding_6_input'\"), but it was called on an input with incompatible shape (None, 1).\n",
      "2737/2737 [==============================] - 54s 19ms/step - loss: 0.2729 - accuracy: 0.9287 - val_loss: 0.2178 - val_accuracy: 0.9355\n",
      "Epoch 2/5\n",
      "2737/2737 [==============================] - 51s 19ms/step - loss: 0.1925 - accuracy: 0.9356 - val_loss: 0.2196 - val_accuracy: 0.9350\n",
      "Epoch 3/5\n",
      "2737/2737 [==============================] - 52s 19ms/step - loss: 0.1781 - accuracy: 0.9429 - val_loss: 0.2285 - val_accuracy: 0.9348\n",
      "Epoch 4/5\n",
      "2737/2737 [==============================] - 56s 20ms/step - loss: 0.1751 - accuracy: 0.9422 - val_loss: 0.2349 - val_accuracy: 0.9351\n",
      "Epoch 5/5\n",
      "2737/2737 [==============================] - 54s 20ms/step - loss: 0.1714 - accuracy: 0.9435 - val_loss: 0.2316 - val_accuracy: 0.9347\n",
      "CPU times: user 6min 57s, sys: 19.7 s, total: 7min 17s\n",
      "Wall time: 5min 22s\n"
     ]
    }
   ],
   "source": [
    "%%time\n",
    "history = model.fit(X_train, y_train,\n",
    "                    epochs=5,\n",
    "                    validation_data=(X_test, y_test),\n",
    "                    batch_size=10)"
   ]
  },
  {
   "cell_type": "code",
   "execution_count": 120,
   "id": "independent-fence",
   "metadata": {
    "colab": {
     "base_uri": "https://localhost:8080/",
     "height": 608
    },
    "executionInfo": {
     "elapsed": 1837,
     "status": "ok",
     "timestamp": 1627857433452,
     "user": {
      "displayName": "Rafael Greca",
      "photoUrl": "",
      "userId": "13108790060757877730"
     },
     "user_tz": 180
    },
    "id": "independent-fence",
    "outputId": "0f92bb81-6e5f-4f90-c11f-827210157648"
   },
   "outputs": [
    {
     "name": "stdout",
     "output_type": "stream",
     "text": [
      "Training Accuracy: 0.9430\n",
      "Testing Accuracy:  0.9347\n"
     ]
    },
    {
     "data": {
      "image/png": "[encoded data removed]",
      "text/plain": [
       "<Figure size 432x288 with 1 Axes>"
      ]
     },
     "metadata": {
      "tags": []
     },
     "output_type": "display_data"
    },
    {
     "data": {
      "image/png": "[encoded data removed]",
      "text/plain": [
       "<Figure size 432x288 with 1 Axes>"
      ]
     },
     "metadata": {
      "tags": []
     },
     "output_type": "display_data"
    }
   ],
   "source": [
    "plot_model(model, data_augmentation='nlpaug')"
   ]
  },
  {
   "cell_type": "code",
   "execution_count": 121,
   "id": "dynamic-eugene",
   "metadata": {
    "executionInfo": {
     "elapsed": 2338,
     "status": "ok",
     "timestamp": 1627857435779,
     "user": {
      "displayName": "Rafael Greca",
      "photoUrl": "",
      "userId": "13108790060757877730"
     },
     "user_tz": 180
    },
    "id": "dynamic-eugene"
   },
   "outputs": [],
   "source": [
    "submission(model, tokenizer, 'Submissions/submission_nlpaug.csv')"
   ]
  },
  {
   "cell_type": "markdown",
   "id": "expressed-binary",
   "metadata": {
    "id": "expressed-binary"
   },
   "source": [
    "### EDA"
   ]
  },
  {
   "cell_type": "code",
   "execution_count": 125,
   "id": "progressive-orange",
   "metadata": {
    "executionInfo": {
     "elapsed": 280,
     "status": "ok",
     "timestamp": 1627857485231,
     "user": {
      "displayName": "Rafael Greca",
      "photoUrl": "",
      "userId": "13108790060757877730"
     },
     "user_tz": 180
    },
    "id": "progressive-orange"
   },
   "outputs": [],
   "source": [
    "data = pd.read_csv('Data/train.csv')\n",
    "data = data.drop(columns=['id'])"
   ]
  },
  {
   "cell_type": "code",
   "execution_count": 126,
   "id": "latin-hostel",
   "metadata": {
    "executionInfo": {
     "elapsed": 24,
     "status": "ok",
     "timestamp": 1627857485630,
     "user": {
      "displayName": "Rafael Greca",
      "photoUrl": "",
      "userId": "13108790060757877730"
     },
     "user_tz": 180
    },
    "id": "latin-hostel"
   },
   "outputs": [],
   "source": [
    "data = data[data['label'] == 0]\n",
    "\n",
    "f = open('eda.txt', 'r')\n",
    "\n",
    "tweets = []\n",
    "for x in f:\n",
    "    _, tweet = x.split('\\t')\n",
    "    tweets.append(tweet.strip('\\n'))\n",
    "    \n",
    "f.close()\n",
    "\n",
    "negative_tweets = pd.DataFrame({\n",
    "    'tweet': tweets,\n",
    "    'label': 1\n",
    "})\n",
    "\n",
    "data_resampled = pd.concat([data, negative_tweets], axis=0)\n",
    "data_resampled.head()\n",
    "del data, negative_tweets"
   ]
  },
  {
   "cell_type": "code",
   "execution_count": 127,
   "id": "planned-lucas",
   "metadata": {
    "colab": {
     "base_uri": "https://localhost:8080/"
    },
    "executionInfo": {
     "elapsed": 23,
     "status": "ok",
     "timestamp": 1627857485631,
     "user": {
      "displayName": "Rafael Greca",
      "photoUrl": "",
      "userId": "13108790060757877730"
     },
     "user_tz": 180
    },
    "id": "planned-lucas",
    "outputId": "4c7d4055-4f07-4425-94f9-edceb10ffad2"
   },
   "outputs": [
    {
     "name": "stdout",
     "output_type": "stream",
     "text": [
      "CPU times: user 31.4 ms, sys: 1.95 ms, total: 33.3 ms\n",
      "Wall time: 34.2 ms\n"
     ]
    }
   ],
   "source": [
    "%%time\n",
    "data_resampled['cleaned_tweet'] = data_resampled['tweet'].apply(lowercase)\n",
    "data_resampled.head()"
   ]
  },
  {
   "cell_type": "code",
   "execution_count": 128,
   "id": "rural-howard",
   "metadata": {
    "colab": {
     "base_uri": "https://localhost:8080/"
    },
    "executionInfo": {
     "elapsed": 21,
     "status": "ok",
     "timestamp": 1627857485633,
     "user": {
      "displayName": "Rafael Greca",
      "photoUrl": "",
      "userId": "13108790060757877730"
     },
     "user_tz": 180
    },
    "id": "rural-howard",
    "outputId": "bce37ac1-eb22-43dd-9a21-26e5c114082a"
   },
   "outputs": [
    {
     "data": {
      "text/plain": [
       "(45414, 3)"
      ]
     },
     "execution_count": 128,
     "metadata": {
      "tags": []
     },
     "output_type": "execute_result"
    }
   ],
   "source": [
    "data_resampled.shape"
   ]
  },
  {
   "cell_type": "code",
   "execution_count": 129,
   "id": "minor-singer",
   "metadata": {
    "colab": {
     "base_uri": "https://localhost:8080/",
     "height": 340
    },
    "executionInfo": {
     "elapsed": 414,
     "status": "ok",
     "timestamp": 1627857486036,
     "user": {
      "displayName": "Rafael Greca",
      "photoUrl": "",
      "userId": "13108790060757877730"
     },
     "user_tz": 180
    },
    "id": "minor-singer",
    "outputId": "83be4f45-a51b-40cb-dce2-901dbc2965a1"
   },
   "outputs": [
    {
     "data": {
      "image/png": "[encoded data removed]",
      "text/plain": [
       "<Figure size 504x360 with 1 Axes>"
      ]
     },
     "metadata": {
      "tags": []
     },
     "output_type": "display_data"
    }
   ],
   "source": [
    "plt.figure(figsize=(7, 5))\n",
    "sns.countplot(data=data_resampled, x='label', color='cornflowerblue')\n",
    "plt.xlabel('Classe', fontsize=12)\n",
    "plt.ylabel('Quantidade de mensagens', fontsize=12)\n",
    "plt.tick_params(labelsize=12)\n",
    "plt.savefig('Images/nova_distribuição_dados_eda.png')"
   ]
  },
  {
   "cell_type": "code",
   "execution_count": 130,
   "id": "improved-arrangement",
   "metadata": {
    "colab": {
     "base_uri": "https://localhost:8080/"
    },
    "executionInfo": {
     "elapsed": 27,
     "status": "ok",
     "timestamp": 1627857486038,
     "user": {
      "displayName": "Rafael Greca",
      "photoUrl": "",
      "userId": "13108790060757877730"
     },
     "user_tz": 180
    },
    "id": "improved-arrangement",
    "outputId": "89220c08-cbf7-478a-849a-3131f3c1f4d5"
   },
   "outputs": [
    {
     "data": {
      "text/plain": [
       "0    29720\n",
       "1    15694\n",
       "Name: label, dtype: int64"
      ]
     },
     "execution_count": 130,
     "metadata": {
      "tags": []
     },
     "output_type": "execute_result"
    }
   ],
   "source": [
    "data_resampled['label'].value_counts()"
   ]
  },
  {
   "cell_type": "code",
   "execution_count": 131,
   "id": "precise-transformation",
   "metadata": {
    "executionInfo": {
     "elapsed": 19,
     "status": "ok",
     "timestamp": 1627857486039,
     "user": {
      "displayName": "Rafael Greca",
      "photoUrl": "",
      "userId": "13108790060757877730"
     },
     "user_tz": 180
    },
    "id": "precise-transformation"
   },
   "outputs": [],
   "source": [
    "data_resampled['cleaned_tweet'] = data_resampled['cleaned_tweet'].apply(str)"
   ]
  },
  {
   "cell_type": "code",
   "execution_count": 132,
   "id": "exclusive-aggregate",
   "metadata": {
    "executionInfo": {
     "elapsed": 20,
     "status": "ok",
     "timestamp": 1627857486042,
     "user": {
      "displayName": "Rafael Greca",
      "photoUrl": "",
      "userId": "13108790060757877730"
     },
     "user_tz": 180
    },
    "id": "exclusive-aggregate"
   },
   "outputs": [],
   "source": [
    "X_train, X_test, y_train, y_test = train_test_split(data_resampled['cleaned_tweet'],\n",
    "                                                    data_resampled['label'],\n",
    "                                                    test_size=0.2,\n",
    "                                                    random_state=23)"
   ]
  },
  {
   "cell_type": "code",
   "execution_count": 133,
   "id": "quarterly-recognition",
   "metadata": {
    "executionInfo": {
     "elapsed": 2301,
     "status": "ok",
     "timestamp": 1627857488325,
     "user": {
      "displayName": "Rafael Greca",
      "photoUrl": "",
      "userId": "13108790060757877730"
     },
     "user_tz": 180
    },
    "id": "quarterly-recognition"
   },
   "outputs": [],
   "source": [
    "X_train, X_test, vocab_size, tokenizer = processing(X_train, X_test)"
   ]
  },
  {
   "cell_type": "code",
   "execution_count": 134,
   "id": "brazilian-martial",
   "metadata": {
    "colab": {
     "base_uri": "https://localhost:8080/"
    },
    "executionInfo": {
     "elapsed": 21,
     "status": "ok",
     "timestamp": 1627857488333,
     "user": {
      "displayName": "Rafael Greca",
      "photoUrl": "",
      "userId": "13108790060757877730"
     },
     "user_tz": 180
    },
    "id": "brazilian-martial",
    "outputId": "0a604403-c164-4c46-f6af-ee405eeadf39"
   },
   "outputs": [
    {
     "name": "stdout",
     "output_type": "stream",
     "text": [
      "Model: \"sequential_7\"\n",
      "_________________________________________________________________\n",
      "Layer (type)                 Output Shape              Param #   \n",
      "=================================================================\n",
      "embedding_7 (Embedding)      (None, 100, 50)           2048850   \n",
      "_________________________________________________________________\n",
      "conv1d_7 (Conv1D)            (None, 100, 64)           16064     \n",
      "_________________________________________________________________\n",
      "global_max_pooling1d_7 (Glob (None, 64)                0         \n",
      "_________________________________________________________________\n",
      "dense_7 (Dense)              (None, 1)                 65        \n",
      "=================================================================\n",
      "Total params: 2,064,979\n",
      "Trainable params: 2,064,979\n",
      "Non-trainable params: 0\n",
      "_________________________________________________________________\n"
     ]
    }
   ],
   "source": [
    "model = create_model(vocab_size)\n",
    "model.summary()"
   ]
  },
  {
   "cell_type": "code",
   "execution_count": 135,
   "id": "irish-sport",
   "metadata": {
    "colab": {
     "base_uri": "https://localhost:8080/"
    },
    "executionInfo": {
     "elapsed": 449366,
     "status": "ok",
     "timestamp": 1627857937688,
     "user": {
      "displayName": "Rafael Greca",
      "photoUrl": "",
      "userId": "13108790060757877730"
     },
     "user_tz": 180
    },
    "id": "irish-sport",
    "outputId": "5b8de335-b6b0-4f8f-d6e5-8215f2515ba3"
   },
   "outputs": [
    {
     "name": "stdout",
     "output_type": "stream",
     "text": [
      "Epoch 1/5\n",
      "3634/3634 [==============================] - 92s 25ms/step - loss: 0.2715 - accuracy: 0.8742 - val_loss: 0.0892 - val_accuracy: 0.9675\n",
      "Epoch 2/5\n",
      "3634/3634 [==============================] - 89s 25ms/step - loss: 0.0521 - accuracy: 0.9812 - val_loss: 0.0721 - val_accuracy: 0.9749\n",
      "Epoch 3/5\n",
      "3634/3634 [==============================] - 90s 25ms/step - loss: 0.0231 - accuracy: 0.9918 - val_loss: 0.0744 - val_accuracy: 0.9759\n",
      "Epoch 4/5\n",
      "3634/3634 [==============================] - 90s 25ms/step - loss: 0.0099 - accuracy: 0.9967 - val_loss: 0.0788 - val_accuracy: 0.9797\n",
      "Epoch 5/5\n",
      "3634/3634 [==============================] - 88s 24ms/step - loss: 0.0048 - accuracy: 0.9986 - val_loss: 0.0905 - val_accuracy: 0.9790\n",
      "CPU times: user 11min 38s, sys: 40.9 s, total: 12min 19s\n",
      "Wall time: 7min 29s\n"
     ]
    }
   ],
   "source": [
    "%%time\n",
    "history = model.fit(X_train, y_train,\n",
    "                    epochs=5,\n",
    "                    validation_data=(X_test, y_test),\n",
    "                    batch_size=10)"
   ]
  },
  {
   "cell_type": "code",
   "execution_count": 136,
   "id": "competitive-ceiling",
   "metadata": {
    "colab": {
     "base_uri": "https://localhost:8080/",
     "height": 608
    },
    "executionInfo": {
     "elapsed": 5243,
     "status": "ok",
     "timestamp": 1627857942896,
     "user": {
      "displayName": "Rafael Greca",
      "photoUrl": "",
      "userId": "13108790060757877730"
     },
     "user_tz": 180
    },
    "id": "competitive-ceiling",
    "outputId": "90aee028-b4f7-4147-bf91-af467b7d2e91"
   },
   "outputs": [
    {
     "name": "stdout",
     "output_type": "stream",
     "text": [
      "Training Accuracy: 0.9991\n",
      "Testing Accuracy:  0.9790\n"
     ]
    },
    {
     "data": {
      "image/png": "[encoded data removed]",
      "text/plain": [
       "<Figure size 432x288 with 1 Axes>"
      ]
     },
     "metadata": {
      "tags": []
     },
     "output_type": "display_data"
    },
    {
     "data": {
      "image/png": "[encoded data removed]",
      "text/plain": [
       "<Figure size 432x288 with 1 Axes>"
      ]
     },
     "metadata": {
      "tags": []
     },
     "output_type": "display_data"
    }
   ],
   "source": [
    "plot_model(model, data_augmentation='eda')"
   ]
  },
  {
   "cell_type": "code",
   "execution_count": 137,
   "id": "certified-return",
   "metadata": {
    "executionInfo": {
     "elapsed": 2196,
     "status": "ok",
     "timestamp": 1627857945080,
     "user": {
      "displayName": "Rafael Greca",
      "photoUrl": "",
      "userId": "13108790060757877730"
     },
     "user_tz": 180
    },
    "id": "certified-return"
   },
   "outputs": [],
   "source": [
    "submission(model, tokenizer, 'Submissions/submission_eda.csv')"
   ]
  },
  {
   "cell_type": "markdown",
   "id": "driven-glass",
   "metadata": {
    "id": "driven-glass"
   },
   "source": [
    "## Referências"
   ]
  },
  {
   "cell_type": "markdown",
   "id": "authentic-exhaust",
   "metadata": {
    "id": "authentic-exhaust"
   },
   "source": [
    "https://realpython.com/python-keras-text-classification/\n",
    "\n",
    "https://stackabuse.com/python-for-nlp-movie-sentiment-analysis-using-deep-learning-in-keras/\n",
    "\n",
    "https://medium.com/saarthi-ai/sentence-classification-using-convolutional-neural-networks-ddad72c7048c\n",
    "\n",
    "https://medium.com/analytics-vidhya/text-classification-from-bag-of-words-to-bert-1e628a2dd4c9\n",
    "\n",
    "https://nlpforhackers.io/keras-intro/"
   ]
  }
 ],
 "metadata": {
  "colab": {
   "name": "study.ipynb",
   "provenance": []
  },
  "kernelspec": {
   "display_name": "Python 3 (ipykernel)",
   "language": "python",
   "name": "python3"
  },
  "language_info": {
   "codemirror_mode": {
    "name": "ipython",
    "version": 3
   },
   "file_extension": ".py",
   "mimetype": "text/x-python",
   "name": "python",
   "nbconvert_exporter": "python",
   "pygments_lexer": "ipython3",
   "version": "3.8.10"
  }
 },
 "nbformat": 4,
 "nbformat_minor": 5
}
