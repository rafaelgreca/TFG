{
 "cells": [
  {
   "cell_type": "code",
   "execution_count": 53,
   "id": "fifth-spray",
   "metadata": {},
   "outputs": [],
   "source": [
    "import pandas as pd\n",
    "import matplotlib.pyplot as plt\n",
    "import re\n",
    "import nltk\n",
    "import numpy as np\n",
    "import seaborn as sns\n",
    "sns.set_style('dark')\n",
    "\n",
    "from itertools import chain\n",
    "from collections import Counter\n",
    "from nltk.corpus import stopwords\n",
    "stop_words = set(stopwords.words('english')) "
   ]
  },
  {
   "cell_type": "code",
   "execution_count": 2,
   "id": "faced-vision",
   "metadata": {},
   "outputs": [],
   "source": [
    "train = pd.read_csv('train.csv')\n",
    "test = pd.read_csv('test.csv')"
   ]
  },
  {
   "cell_type": "code",
   "execution_count": 3,
   "id": "abandoned-pasta",
   "metadata": {},
   "outputs": [
    {
     "data": {
      "text/html": [
       "<div>\n",
       "<style scoped>\n",
       "    .dataframe tbody tr th:only-of-type {\n",
       "        vertical-align: middle;\n",
       "    }\n",
       "\n",
       "    .dataframe tbody tr th {\n",
       "        vertical-align: top;\n",
       "    }\n",
       "\n",
       "    .dataframe thead th {\n",
       "        text-align: right;\n",
       "    }\n",
       "</style>\n",
       "<table border=\"1\" class=\"dataframe\">\n",
       "  <thead>\n",
       "    <tr style=\"text-align: right;\">\n",
       "      <th></th>\n",
       "      <th>id</th>\n",
       "      <th>label</th>\n",
       "      <th>tweet</th>\n",
       "    </tr>\n",
       "  </thead>\n",
       "  <tbody>\n",
       "    <tr>\n",
       "      <th>0</th>\n",
       "      <td>1</td>\n",
       "      <td>0</td>\n",
       "      <td>@user when a father is dysfunctional and is s...</td>\n",
       "    </tr>\n",
       "    <tr>\n",
       "      <th>1</th>\n",
       "      <td>2</td>\n",
       "      <td>0</td>\n",
       "      <td>@user @user thanks for #lyft credit i can't us...</td>\n",
       "    </tr>\n",
       "    <tr>\n",
       "      <th>2</th>\n",
       "      <td>3</td>\n",
       "      <td>0</td>\n",
       "      <td>bihday your majesty</td>\n",
       "    </tr>\n",
       "    <tr>\n",
       "      <th>3</th>\n",
       "      <td>4</td>\n",
       "      <td>0</td>\n",
       "      <td>#model   i love u take with u all the time in ...</td>\n",
       "    </tr>\n",
       "    <tr>\n",
       "      <th>4</th>\n",
       "      <td>5</td>\n",
       "      <td>0</td>\n",
       "      <td>factsguide: society now    #motivation</td>\n",
       "    </tr>\n",
       "  </tbody>\n",
       "</table>\n",
       "</div>"
      ],
      "text/plain": [
       "   id  label                                              tweet\n",
       "0   1      0   @user when a father is dysfunctional and is s...\n",
       "1   2      0  @user @user thanks for #lyft credit i can't us...\n",
       "2   3      0                                bihday your majesty\n",
       "3   4      0  #model   i love u take with u all the time in ...\n",
       "4   5      0             factsguide: society now    #motivation"
      ]
     },
     "execution_count": 3,
     "metadata": {},
     "output_type": "execute_result"
    }
   ],
   "source": [
    "train.head()"
   ]
  },
  {
   "cell_type": "markdown",
   "id": "surface-michigan",
   "metadata": {},
   "source": [
    "## Label"
   ]
  },
  {
   "cell_type": "code",
   "execution_count": 4,
   "id": "happy-assurance",
   "metadata": {},
   "outputs": [
    {
     "data": {
      "text/plain": [
       "Text(0, 0.5, 'Count')"
      ]
     },
     "execution_count": 4,
     "metadata": {},
     "output_type": "execute_result"
    },
    {
     "data": {
      "image/png": "[encoded data removed]",
      "text/plain": [
       "<Figure size 504x432 with 1 Axes>"
      ]
     },
     "metadata": {},
     "output_type": "display_data"
    }
   ],
   "source": [
    "plt.figure(figsize=(7, 6))\n",
    "sns.countplot(data=train, x='label')\n",
    "plt.title('Values per label', fontsize=13)\n",
    "plt.xlabel('Label', fontsize=13)\n",
    "plt.ylabel('Count', fontsize=13)"
   ]
  },
  {
   "cell_type": "markdown",
   "id": "everyday-honolulu",
   "metadata": {},
   "source": [
    "## Tweet"
   ]
  },
  {
   "cell_type": "markdown",
   "id": "naval-suggestion",
   "metadata": {},
   "source": [
    "### Hashtags"
   ]
  },
  {
   "cell_type": "code",
   "execution_count": 5,
   "id": "interior-monkey",
   "metadata": {},
   "outputs": [],
   "source": [
    "def detect_hashtags(text):\n",
    "    text = str(text)\n",
    "    count = re.findall(r'\\#[\\w]+', text)\n",
    "    return len(count)"
   ]
  },
  {
   "cell_type": "code",
   "execution_count": 6,
   "id": "oriental-grammar",
   "metadata": {},
   "outputs": [
    {
     "data": {
      "text/html": [
       "<div>\n",
       "<style scoped>\n",
       "    .dataframe tbody tr th:only-of-type {\n",
       "        vertical-align: middle;\n",
       "    }\n",
       "\n",
       "    .dataframe tbody tr th {\n",
       "        vertical-align: top;\n",
       "    }\n",
       "\n",
       "    .dataframe thead th {\n",
       "        text-align: right;\n",
       "    }\n",
       "</style>\n",
       "<table border=\"1\" class=\"dataframe\">\n",
       "  <thead>\n",
       "    <tr style=\"text-align: right;\">\n",
       "      <th></th>\n",
       "      <th>id</th>\n",
       "      <th>label</th>\n",
       "      <th>tweet</th>\n",
       "      <th>hashtags</th>\n",
       "    </tr>\n",
       "  </thead>\n",
       "  <tbody>\n",
       "    <tr>\n",
       "      <th>0</th>\n",
       "      <td>1</td>\n",
       "      <td>0</td>\n",
       "      <td>@user when a father is dysfunctional and is s...</td>\n",
       "      <td>1</td>\n",
       "    </tr>\n",
       "    <tr>\n",
       "      <th>1</th>\n",
       "      <td>2</td>\n",
       "      <td>0</td>\n",
       "      <td>@user @user thanks for #lyft credit i can't us...</td>\n",
       "      <td>3</td>\n",
       "    </tr>\n",
       "    <tr>\n",
       "      <th>2</th>\n",
       "      <td>3</td>\n",
       "      <td>0</td>\n",
       "      <td>bihday your majesty</td>\n",
       "      <td>0</td>\n",
       "    </tr>\n",
       "    <tr>\n",
       "      <th>3</th>\n",
       "      <td>4</td>\n",
       "      <td>0</td>\n",
       "      <td>#model   i love u take with u all the time in ...</td>\n",
       "      <td>1</td>\n",
       "    </tr>\n",
       "    <tr>\n",
       "      <th>4</th>\n",
       "      <td>5</td>\n",
       "      <td>0</td>\n",
       "      <td>factsguide: society now    #motivation</td>\n",
       "      <td>1</td>\n",
       "    </tr>\n",
       "  </tbody>\n",
       "</table>\n",
       "</div>"
      ],
      "text/plain": [
       "   id  label                                              tweet  hashtags\n",
       "0   1      0   @user when a father is dysfunctional and is s...         1\n",
       "1   2      0  @user @user thanks for #lyft credit i can't us...         3\n",
       "2   3      0                                bihday your majesty         0\n",
       "3   4      0  #model   i love u take with u all the time in ...         1\n",
       "4   5      0             factsguide: society now    #motivation         1"
      ]
     },
     "execution_count": 6,
     "metadata": {},
     "output_type": "execute_result"
    }
   ],
   "source": [
    "train['hashtags'] = train['tweet'].apply(detect_hashtags)\n",
    "train.head()"
   ]
  },
  {
   "cell_type": "code",
   "execution_count": 7,
   "id": "authentic-purple",
   "metadata": {},
   "outputs": [
    {
     "data": {
      "text/plain": [
       "Text(0, 0.5, 'Label')"
      ]
     },
     "execution_count": 7,
     "metadata": {},
     "output_type": "execute_result"
    },
    {
     "data": {
      "image/png": "[encoded data removed]",
      "text/plain": [
       "<Figure size 504x432 with 1 Axes>"
      ]
     },
     "metadata": {},
     "output_type": "display_data"
    }
   ],
   "source": [
    "plt.figure(figsize=(7, 6))\n",
    "sns.histplot(data=train, x='hashtags', binwidth=2)\n",
    "plt.title('Hashtags per text', fontsize=13)\n",
    "plt.xlabel('hashtags', fontsize=13)\n",
    "plt.ylabel('Label', fontsize=13)"
   ]
  },
  {
   "cell_type": "code",
   "execution_count": 51,
   "id": "retired-board",
   "metadata": {},
   "outputs": [
    {
     "name": "stdout",
     "output_type": "stream",
     "text": [
      "Max hashtags per text: 20\n"
     ]
    }
   ],
   "source": [
    "print('Max hashtags per text: {}'.format(max(train['hashtags'])))"
   ]
  },
  {
   "cell_type": "code",
   "execution_count": 50,
   "id": "selective-monster",
   "metadata": {},
   "outputs": [
    {
     "name": "stdout",
     "output_type": "stream",
     "text": [
      "ðð»#pretending#to#be #when #you're#in#pain#is#just#an#example #of#how#strong#you#are#as#a #personðð» ððªð»ðªð»ðªð» #nightyð´\n"
     ]
    }
   ],
   "source": [
    "print(train['tweet'][np.argmax(train['hashtags'])])"
   ]
  },
  {
   "cell_type": "markdown",
   "id": "reflected-upgrade",
   "metadata": {},
   "source": [
    "### Usernames"
   ]
  },
  {
   "cell_type": "code",
   "execution_count": 8,
   "id": "material-beauty",
   "metadata": {},
   "outputs": [],
   "source": [
    "def detect_usernames(text):\n",
    "    text = str(text)\n",
    "    count = re.findall(r'\\@[\\w]+', text)\n",
    "    return len(count)"
   ]
  },
  {
   "cell_type": "code",
   "execution_count": 9,
   "id": "economic-morris",
   "metadata": {},
   "outputs": [
    {
     "data": {
      "text/html": [
       "<div>\n",
       "<style scoped>\n",
       "    .dataframe tbody tr th:only-of-type {\n",
       "        vertical-align: middle;\n",
       "    }\n",
       "\n",
       "    .dataframe tbody tr th {\n",
       "        vertical-align: top;\n",
       "    }\n",
       "\n",
       "    .dataframe thead th {\n",
       "        text-align: right;\n",
       "    }\n",
       "</style>\n",
       "<table border=\"1\" class=\"dataframe\">\n",
       "  <thead>\n",
       "    <tr style=\"text-align: right;\">\n",
       "      <th></th>\n",
       "      <th>id</th>\n",
       "      <th>label</th>\n",
       "      <th>tweet</th>\n",
       "      <th>hashtags</th>\n",
       "      <th>usernames</th>\n",
       "    </tr>\n",
       "  </thead>\n",
       "  <tbody>\n",
       "    <tr>\n",
       "      <th>0</th>\n",
       "      <td>1</td>\n",
       "      <td>0</td>\n",
       "      <td>@user when a father is dysfunctional and is s...</td>\n",
       "      <td>1</td>\n",
       "      <td>1</td>\n",
       "    </tr>\n",
       "    <tr>\n",
       "      <th>1</th>\n",
       "      <td>2</td>\n",
       "      <td>0</td>\n",
       "      <td>@user @user thanks for #lyft credit i can't us...</td>\n",
       "      <td>3</td>\n",
       "      <td>2</td>\n",
       "    </tr>\n",
       "    <tr>\n",
       "      <th>2</th>\n",
       "      <td>3</td>\n",
       "      <td>0</td>\n",
       "      <td>bihday your majesty</td>\n",
       "      <td>0</td>\n",
       "      <td>0</td>\n",
       "    </tr>\n",
       "    <tr>\n",
       "      <th>3</th>\n",
       "      <td>4</td>\n",
       "      <td>0</td>\n",
       "      <td>#model   i love u take with u all the time in ...</td>\n",
       "      <td>1</td>\n",
       "      <td>0</td>\n",
       "    </tr>\n",
       "    <tr>\n",
       "      <th>4</th>\n",
       "      <td>5</td>\n",
       "      <td>0</td>\n",
       "      <td>factsguide: society now    #motivation</td>\n",
       "      <td>1</td>\n",
       "      <td>0</td>\n",
       "    </tr>\n",
       "  </tbody>\n",
       "</table>\n",
       "</div>"
      ],
      "text/plain": [
       "   id  label                                              tweet  hashtags  \\\n",
       "0   1      0   @user when a father is dysfunctional and is s...         1   \n",
       "1   2      0  @user @user thanks for #lyft credit i can't us...         3   \n",
       "2   3      0                                bihday your majesty         0   \n",
       "3   4      0  #model   i love u take with u all the time in ...         1   \n",
       "4   5      0             factsguide: society now    #motivation         1   \n",
       "\n",
       "   usernames  \n",
       "0          1  \n",
       "1          2  \n",
       "2          0  \n",
       "3          0  \n",
       "4          0  "
      ]
     },
     "execution_count": 9,
     "metadata": {},
     "output_type": "execute_result"
    }
   ],
   "source": [
    "train['usernames'] = train['tweet'].apply(detect_usernames)\n",
    "train.head()"
   ]
  },
  {
   "cell_type": "code",
   "execution_count": 10,
   "id": "accomplished-cooper",
   "metadata": {},
   "outputs": [
    {
     "data": {
      "text/plain": [
       "Text(0, 0.5, 'Label')"
      ]
     },
     "execution_count": 10,
     "metadata": {},
     "output_type": "execute_result"
    },
    {
     "data": {
      "image/png": "[encoded data removed]",
      "text/plain": [
       "<Figure size 504x432 with 1 Axes>"
      ]
     },
     "metadata": {},
     "output_type": "display_data"
    }
   ],
   "source": [
    "plt.figure(figsize=(7, 6))\n",
    "sns.histplot(data=train, x='usernames', binwidth=2)\n",
    "plt.title('Usernames per text', fontsize=13)\n",
    "plt.xlabel('Usernames', fontsize=13)\n",
    "plt.ylabel('Label', fontsize=13)"
   ]
  },
  {
   "cell_type": "code",
   "execution_count": 48,
   "id": "catholic-harrison",
   "metadata": {},
   "outputs": [
    {
     "name": "stdout",
     "output_type": "stream",
     "text": [
      "Max usernames (mentions) per text: 11\n"
     ]
    }
   ],
   "source": [
    "print('Max usernames (mentions) per text: {}'.format(max(train['usernames'])))"
   ]
  },
  {
   "cell_type": "code",
   "execution_count": 49,
   "id": "tropical-charlotte",
   "metadata": {},
   "outputs": [
    {
     "name": "stdout",
     "output_type": "stream",
     "text": [
      " @user @user @user @user @user @user @user @user @user @user @user\n"
     ]
    }
   ],
   "source": [
    "print(train['tweet'][np.argmax(train['usernames'])])"
   ]
  },
  {
   "cell_type": "markdown",
   "id": "activated-conviction",
   "metadata": {},
   "source": [
    "### Words"
   ]
  },
  {
   "cell_type": "code",
   "execution_count": 11,
   "id": "driving-burst",
   "metadata": {},
   "outputs": [],
   "source": [
    "def count_words(text):\n",
    "    text = str(text)\n",
    "    text = text.split(' ')\n",
    "    return len(text)"
   ]
  },
  {
   "cell_type": "code",
   "execution_count": 12,
   "id": "catholic-mounting",
   "metadata": {},
   "outputs": [
    {
     "data": {
      "text/html": [
       "<div>\n",
       "<style scoped>\n",
       "    .dataframe tbody tr th:only-of-type {\n",
       "        vertical-align: middle;\n",
       "    }\n",
       "\n",
       "    .dataframe tbody tr th {\n",
       "        vertical-align: top;\n",
       "    }\n",
       "\n",
       "    .dataframe thead th {\n",
       "        text-align: right;\n",
       "    }\n",
       "</style>\n",
       "<table border=\"1\" class=\"dataframe\">\n",
       "  <thead>\n",
       "    <tr style=\"text-align: right;\">\n",
       "      <th></th>\n",
       "      <th>id</th>\n",
       "      <th>label</th>\n",
       "      <th>tweet</th>\n",
       "      <th>hashtags</th>\n",
       "      <th>usernames</th>\n",
       "      <th>words</th>\n",
       "    </tr>\n",
       "  </thead>\n",
       "  <tbody>\n",
       "    <tr>\n",
       "      <th>0</th>\n",
       "      <td>1</td>\n",
       "      <td>0</td>\n",
       "      <td>@user when a father is dysfunctional and is s...</td>\n",
       "      <td>1</td>\n",
       "      <td>1</td>\n",
       "      <td>21</td>\n",
       "    </tr>\n",
       "    <tr>\n",
       "      <th>1</th>\n",
       "      <td>2</td>\n",
       "      <td>0</td>\n",
       "      <td>@user @user thanks for #lyft credit i can't us...</td>\n",
       "      <td>3</td>\n",
       "      <td>2</td>\n",
       "      <td>22</td>\n",
       "    </tr>\n",
       "    <tr>\n",
       "      <th>2</th>\n",
       "      <td>3</td>\n",
       "      <td>0</td>\n",
       "      <td>bihday your majesty</td>\n",
       "      <td>0</td>\n",
       "      <td>0</td>\n",
       "      <td>5</td>\n",
       "    </tr>\n",
       "    <tr>\n",
       "      <th>3</th>\n",
       "      <td>4</td>\n",
       "      <td>0</td>\n",
       "      <td>#model   i love u take with u all the time in ...</td>\n",
       "      <td>1</td>\n",
       "      <td>0</td>\n",
       "      <td>17</td>\n",
       "    </tr>\n",
       "    <tr>\n",
       "      <th>4</th>\n",
       "      <td>5</td>\n",
       "      <td>0</td>\n",
       "      <td>factsguide: society now    #motivation</td>\n",
       "      <td>1</td>\n",
       "      <td>0</td>\n",
       "      <td>8</td>\n",
       "    </tr>\n",
       "  </tbody>\n",
       "</table>\n",
       "</div>"
      ],
      "text/plain": [
       "   id  label                                              tweet  hashtags  \\\n",
       "0   1      0   @user when a father is dysfunctional and is s...         1   \n",
       "1   2      0  @user @user thanks for #lyft credit i can't us...         3   \n",
       "2   3      0                                bihday your majesty         0   \n",
       "3   4      0  #model   i love u take with u all the time in ...         1   \n",
       "4   5      0             factsguide: society now    #motivation         1   \n",
       "\n",
       "   usernames  words  \n",
       "0          1     21  \n",
       "1          2     22  \n",
       "2          0      5  \n",
       "3          0     17  \n",
       "4          0      8  "
      ]
     },
     "execution_count": 12,
     "metadata": {},
     "output_type": "execute_result"
    }
   ],
   "source": [
    "train['words'] = train['tweet'].apply(count_words)\n",
    "train.head()"
   ]
  },
  {
   "cell_type": "code",
   "execution_count": 13,
   "id": "tender-median",
   "metadata": {},
   "outputs": [
    {
     "data": {
      "text/plain": [
       "Text(0, 0.5, 'Label')"
      ]
     },
     "execution_count": 13,
     "metadata": {},
     "output_type": "execute_result"
    },
    {
     "data": {
      "image/png": "[encoded data removed]",
      "text/plain": [
       "<Figure size 504x432 with 1 Axes>"
      ]
     },
     "metadata": {},
     "output_type": "display_data"
    }
   ],
   "source": [
    "plt.figure(figsize=(7, 6))\n",
    "sns.histplot(data=train, x='words', binwidth=2)\n",
    "plt.title('Words per text', fontsize=13)\n",
    "plt.xlabel('Words', fontsize=13)\n",
    "plt.ylabel('Label', fontsize=13)"
   ]
  },
  {
   "cell_type": "code",
   "execution_count": 44,
   "id": "interstate-karaoke",
   "metadata": {},
   "outputs": [
    {
     "name": "stdout",
     "output_type": "stream",
     "text": [
      "Max characters per text: 43\n"
     ]
    }
   ],
   "source": [
    "print('Max characters per text: {}'.format(max(train['words'])))"
   ]
  },
  {
   "cell_type": "code",
   "execution_count": 45,
   "id": "authorized-agent",
   "metadata": {},
   "outputs": [
    {
     "name": "stdout",
     "output_type": "stream",
     "text": [
      "the greatest gift i ever had         came from #god          i call him  #dad ó¾ó¾ó¾    #father's #day......!!  ó¾ ó¾ â feeling proud\n"
     ]
    }
   ],
   "source": [
    "print(train['tweet'][np.argmax(train['words'])])"
   ]
  },
  {
   "cell_type": "markdown",
   "id": "mysterious-christian",
   "metadata": {},
   "source": [
    "### Numbers"
   ]
  },
  {
   "cell_type": "code",
   "execution_count": 14,
   "id": "contained-supervisor",
   "metadata": {},
   "outputs": [],
   "source": [
    "def count_numbers(text):\n",
    "    text = str(text)\n",
    "    count = re.findall(r'\\d', text)\n",
    "    return len(count)"
   ]
  },
  {
   "cell_type": "code",
   "execution_count": 15,
   "id": "tracked-danish",
   "metadata": {},
   "outputs": [
    {
     "data": {
      "text/html": [
       "<div>\n",
       "<style scoped>\n",
       "    .dataframe tbody tr th:only-of-type {\n",
       "        vertical-align: middle;\n",
       "    }\n",
       "\n",
       "    .dataframe tbody tr th {\n",
       "        vertical-align: top;\n",
       "    }\n",
       "\n",
       "    .dataframe thead th {\n",
       "        text-align: right;\n",
       "    }\n",
       "</style>\n",
       "<table border=\"1\" class=\"dataframe\">\n",
       "  <thead>\n",
       "    <tr style=\"text-align: right;\">\n",
       "      <th></th>\n",
       "      <th>id</th>\n",
       "      <th>label</th>\n",
       "      <th>tweet</th>\n",
       "      <th>hashtags</th>\n",
       "      <th>usernames</th>\n",
       "      <th>words</th>\n",
       "      <th>numbers</th>\n",
       "    </tr>\n",
       "  </thead>\n",
       "  <tbody>\n",
       "    <tr>\n",
       "      <th>0</th>\n",
       "      <td>1</td>\n",
       "      <td>0</td>\n",
       "      <td>@user when a father is dysfunctional and is s...</td>\n",
       "      <td>1</td>\n",
       "      <td>1</td>\n",
       "      <td>21</td>\n",
       "      <td>0</td>\n",
       "    </tr>\n",
       "    <tr>\n",
       "      <th>1</th>\n",
       "      <td>2</td>\n",
       "      <td>0</td>\n",
       "      <td>@user @user thanks for #lyft credit i can't us...</td>\n",
       "      <td>3</td>\n",
       "      <td>2</td>\n",
       "      <td>22</td>\n",
       "      <td>0</td>\n",
       "    </tr>\n",
       "    <tr>\n",
       "      <th>2</th>\n",
       "      <td>3</td>\n",
       "      <td>0</td>\n",
       "      <td>bihday your majesty</td>\n",
       "      <td>0</td>\n",
       "      <td>0</td>\n",
       "      <td>5</td>\n",
       "      <td>0</td>\n",
       "    </tr>\n",
       "    <tr>\n",
       "      <th>3</th>\n",
       "      <td>4</td>\n",
       "      <td>0</td>\n",
       "      <td>#model   i love u take with u all the time in ...</td>\n",
       "      <td>1</td>\n",
       "      <td>0</td>\n",
       "      <td>17</td>\n",
       "      <td>0</td>\n",
       "    </tr>\n",
       "    <tr>\n",
       "      <th>4</th>\n",
       "      <td>5</td>\n",
       "      <td>0</td>\n",
       "      <td>factsguide: society now    #motivation</td>\n",
       "      <td>1</td>\n",
       "      <td>0</td>\n",
       "      <td>8</td>\n",
       "      <td>0</td>\n",
       "    </tr>\n",
       "  </tbody>\n",
       "</table>\n",
       "</div>"
      ],
      "text/plain": [
       "   id  label                                              tweet  hashtags  \\\n",
       "0   1      0   @user when a father is dysfunctional and is s...         1   \n",
       "1   2      0  @user @user thanks for #lyft credit i can't us...         3   \n",
       "2   3      0                                bihday your majesty         0   \n",
       "3   4      0  #model   i love u take with u all the time in ...         1   \n",
       "4   5      0             factsguide: society now    #motivation         1   \n",
       "\n",
       "   usernames  words  numbers  \n",
       "0          1     21        0  \n",
       "1          2     22        0  \n",
       "2          0      5        0  \n",
       "3          0     17        0  \n",
       "4          0      8        0  "
      ]
     },
     "execution_count": 15,
     "metadata": {},
     "output_type": "execute_result"
    }
   ],
   "source": [
    "train['numbers'] = train['tweet'].apply(count_numbers)\n",
    "train.head()"
   ]
  },
  {
   "cell_type": "code",
   "execution_count": 16,
   "id": "steady-mapping",
   "metadata": {},
   "outputs": [
    {
     "data": {
      "text/plain": [
       "Text(0, 0.5, 'Label')"
      ]
     },
     "execution_count": 16,
     "metadata": {},
     "output_type": "execute_result"
    },
    {
     "data": {
      "image/png": "[encoded data removed]",
      "text/plain": [
       "<Figure size 504x432 with 1 Axes>"
      ]
     },
     "metadata": {},
     "output_type": "display_data"
    }
   ],
   "source": [
    "plt.figure(figsize=(7, 6))\n",
    "sns.histplot(data=train, x='numbers', binwidth=2)\n",
    "plt.title('Numbers per text', fontsize=13)\n",
    "plt.xlabel('Numbers', fontsize=13)\n",
    "plt.ylabel('Label', fontsize=13)"
   ]
  },
  {
   "cell_type": "code",
   "execution_count": 41,
   "id": "waiting-platinum",
   "metadata": {},
   "outputs": [
    {
     "name": "stdout",
     "output_type": "stream",
     "text": [
      "Max numbers per text: 20\n"
     ]
    }
   ],
   "source": [
    "print('Max numbers per text: {}'.format(max(train['numbers'])))"
   ]
  },
  {
   "cell_type": "code",
   "execution_count": 42,
   "id": "elementary-virginia",
   "metadata": {},
   "outputs": [
    {
     "name": "stdout",
     "output_type": "stream",
     "text": [
      " @user be happy ðâï¸anchored recoveryâï¸ð 714-603-8860 or 949-510-3102 #anchored#recovery#treatment #good#positive \n"
     ]
    }
   ],
   "source": [
    "print(train['tweet'][np.argmax(train['numbers'])])"
   ]
  },
  {
   "cell_type": "markdown",
   "id": "under-level",
   "metadata": {},
   "source": [
    "### Characters"
   ]
  },
  {
   "cell_type": "code",
   "execution_count": 17,
   "id": "universal-immunology",
   "metadata": {},
   "outputs": [],
   "source": [
    "def count_characters(text):\n",
    "    text = str(text)\n",
    "    count = re.findall(r'\\w', text)\n",
    "    return len(count)"
   ]
  },
  {
   "cell_type": "code",
   "execution_count": 18,
   "id": "empty-substance",
   "metadata": {},
   "outputs": [
    {
     "data": {
      "text/html": [
       "<div>\n",
       "<style scoped>\n",
       "    .dataframe tbody tr th:only-of-type {\n",
       "        vertical-align: middle;\n",
       "    }\n",
       "\n",
       "    .dataframe tbody tr th {\n",
       "        vertical-align: top;\n",
       "    }\n",
       "\n",
       "    .dataframe thead th {\n",
       "        text-align: right;\n",
       "    }\n",
       "</style>\n",
       "<table border=\"1\" class=\"dataframe\">\n",
       "  <thead>\n",
       "    <tr style=\"text-align: right;\">\n",
       "      <th></th>\n",
       "      <th>id</th>\n",
       "      <th>label</th>\n",
       "      <th>tweet</th>\n",
       "      <th>hashtags</th>\n",
       "      <th>usernames</th>\n",
       "      <th>words</th>\n",
       "      <th>numbers</th>\n",
       "      <th>characters</th>\n",
       "    </tr>\n",
       "  </thead>\n",
       "  <tbody>\n",
       "    <tr>\n",
       "      <th>0</th>\n",
       "      <td>1</td>\n",
       "      <td>0</td>\n",
       "      <td>@user when a father is dysfunctional and is s...</td>\n",
       "      <td>1</td>\n",
       "      <td>1</td>\n",
       "      <td>21</td>\n",
       "      <td>0</td>\n",
       "      <td>79</td>\n",
       "    </tr>\n",
       "    <tr>\n",
       "      <th>1</th>\n",
       "      <td>2</td>\n",
       "      <td>0</td>\n",
       "      <td>@user @user thanks for #lyft credit i can't us...</td>\n",
       "      <td>3</td>\n",
       "      <td>2</td>\n",
       "      <td>22</td>\n",
       "      <td>0</td>\n",
       "      <td>93</td>\n",
       "    </tr>\n",
       "    <tr>\n",
       "      <th>2</th>\n",
       "      <td>3</td>\n",
       "      <td>0</td>\n",
       "      <td>bihday your majesty</td>\n",
       "      <td>0</td>\n",
       "      <td>0</td>\n",
       "      <td>5</td>\n",
       "      <td>0</td>\n",
       "      <td>17</td>\n",
       "    </tr>\n",
       "    <tr>\n",
       "      <th>3</th>\n",
       "      <td>4</td>\n",
       "      <td>0</td>\n",
       "      <td>#model   i love u take with u all the time in ...</td>\n",
       "      <td>1</td>\n",
       "      <td>0</td>\n",
       "      <td>17</td>\n",
       "      <td>0</td>\n",
       "      <td>42</td>\n",
       "    </tr>\n",
       "    <tr>\n",
       "      <th>4</th>\n",
       "      <td>5</td>\n",
       "      <td>0</td>\n",
       "      <td>factsguide: society now    #motivation</td>\n",
       "      <td>1</td>\n",
       "      <td>0</td>\n",
       "      <td>8</td>\n",
       "      <td>0</td>\n",
       "      <td>30</td>\n",
       "    </tr>\n",
       "  </tbody>\n",
       "</table>\n",
       "</div>"
      ],
      "text/plain": [
       "   id  label                                              tweet  hashtags  \\\n",
       "0   1      0   @user when a father is dysfunctional and is s...         1   \n",
       "1   2      0  @user @user thanks for #lyft credit i can't us...         3   \n",
       "2   3      0                                bihday your majesty         0   \n",
       "3   4      0  #model   i love u take with u all the time in ...         1   \n",
       "4   5      0             factsguide: society now    #motivation         1   \n",
       "\n",
       "   usernames  words  numbers  characters  \n",
       "0          1     21        0          79  \n",
       "1          2     22        0          93  \n",
       "2          0      5        0          17  \n",
       "3          0     17        0          42  \n",
       "4          0      8        0          30  "
      ]
     },
     "execution_count": 18,
     "metadata": {},
     "output_type": "execute_result"
    }
   ],
   "source": [
    "train['characters'] = train['tweet'].apply(count_characters)\n",
    "train.head()"
   ]
  },
  {
   "cell_type": "code",
   "execution_count": 19,
   "id": "oriented-clark",
   "metadata": {},
   "outputs": [
    {
     "data": {
      "text/plain": [
       "Text(0, 0.5, 'Label')"
      ]
     },
     "execution_count": 19,
     "metadata": {},
     "output_type": "execute_result"
    },
    {
     "data": {
      "image/png": "[encoded data removed]",
      "text/plain": [
       "<Figure size 504x432 with 1 Axes>"
      ]
     },
     "metadata": {},
     "output_type": "display_data"
    }
   ],
   "source": [
    "plt.figure(figsize=(7, 6))\n",
    "sns.histplot(data=train, x='characters', binwidth=2)\n",
    "plt.title('Characters per text', fontsize=13)\n",
    "plt.xlabel('Characters', fontsize=13)\n",
    "plt.ylabel('Label', fontsize=13)"
   ]
  },
  {
   "cell_type": "code",
   "execution_count": 40,
   "id": "editorial-table",
   "metadata": {},
   "outputs": [
    {
     "name": "stdout",
     "output_type": "stream",
     "text": [
      "Max characters per text: 125\n"
     ]
    }
   ],
   "source": [
    "print('Max characters per text: {}'.format(max(train['characters'])))"
   ]
  },
  {
   "cell_type": "code",
   "execution_count": 43,
   "id": "great-rouge",
   "metadata": {},
   "outputs": [
    {
     "name": "stdout",
     "output_type": "stream",
     "text": [
      "@user hititonthehead! #killarypeople,needtoreallyreadaboutherbackgroundevenifitsonlyfor08compare#shegotworseithink#butbadfromthegetgo\n"
     ]
    }
   ],
   "source": [
    "print(train['tweet'][np.argmax(train['characters'])])"
   ]
  },
  {
   "cell_type": "markdown",
   "id": "reduced-binding",
   "metadata": {},
   "source": [
    "### Special Characters"
   ]
  },
  {
   "cell_type": "code",
   "execution_count": 20,
   "id": "herbal-aluminum",
   "metadata": {},
   "outputs": [],
   "source": [
    "def count_special_characters(text):\n",
    "    text = str(text)\n",
    "    count = re.findall(r'[^\\w\\s]', text)\n",
    "    return len(count)"
   ]
  },
  {
   "cell_type": "code",
   "execution_count": 21,
   "id": "sacred-original",
   "metadata": {},
   "outputs": [
    {
     "data": {
      "text/html": [
       "<div>\n",
       "<style scoped>\n",
       "    .dataframe tbody tr th:only-of-type {\n",
       "        vertical-align: middle;\n",
       "    }\n",
       "\n",
       "    .dataframe tbody tr th {\n",
       "        vertical-align: top;\n",
       "    }\n",
       "\n",
       "    .dataframe thead th {\n",
       "        text-align: right;\n",
       "    }\n",
       "</style>\n",
       "<table border=\"1\" class=\"dataframe\">\n",
       "  <thead>\n",
       "    <tr style=\"text-align: right;\">\n",
       "      <th></th>\n",
       "      <th>id</th>\n",
       "      <th>label</th>\n",
       "      <th>tweet</th>\n",
       "      <th>hashtags</th>\n",
       "      <th>usernames</th>\n",
       "      <th>words</th>\n",
       "      <th>numbers</th>\n",
       "      <th>characters</th>\n",
       "      <th>specials</th>\n",
       "    </tr>\n",
       "  </thead>\n",
       "  <tbody>\n",
       "    <tr>\n",
       "      <th>0</th>\n",
       "      <td>1</td>\n",
       "      <td>0</td>\n",
       "      <td>@user when a father is dysfunctional and is s...</td>\n",
       "      <td>1</td>\n",
       "      <td>1</td>\n",
       "      <td>21</td>\n",
       "      <td>0</td>\n",
       "      <td>79</td>\n",
       "      <td>3</td>\n",
       "    </tr>\n",
       "    <tr>\n",
       "      <th>1</th>\n",
       "      <td>2</td>\n",
       "      <td>0</td>\n",
       "      <td>@user @user thanks for #lyft credit i can't us...</td>\n",
       "      <td>3</td>\n",
       "      <td>2</td>\n",
       "      <td>22</td>\n",
       "      <td>0</td>\n",
       "      <td>93</td>\n",
       "      <td>8</td>\n",
       "    </tr>\n",
       "    <tr>\n",
       "      <th>2</th>\n",
       "      <td>3</td>\n",
       "      <td>0</td>\n",
       "      <td>bihday your majesty</td>\n",
       "      <td>0</td>\n",
       "      <td>0</td>\n",
       "      <td>5</td>\n",
       "      <td>0</td>\n",
       "      <td>17</td>\n",
       "      <td>0</td>\n",
       "    </tr>\n",
       "    <tr>\n",
       "      <th>3</th>\n",
       "      <td>4</td>\n",
       "      <td>0</td>\n",
       "      <td>#model   i love u take with u all the time in ...</td>\n",
       "      <td>1</td>\n",
       "      <td>0</td>\n",
       "      <td>17</td>\n",
       "      <td>0</td>\n",
       "      <td>42</td>\n",
       "      <td>27</td>\n",
       "    </tr>\n",
       "    <tr>\n",
       "      <th>4</th>\n",
       "      <td>5</td>\n",
       "      <td>0</td>\n",
       "      <td>factsguide: society now    #motivation</td>\n",
       "      <td>1</td>\n",
       "      <td>0</td>\n",
       "      <td>8</td>\n",
       "      <td>0</td>\n",
       "      <td>30</td>\n",
       "      <td>2</td>\n",
       "    </tr>\n",
       "  </tbody>\n",
       "</table>\n",
       "</div>"
      ],
      "text/plain": [
       "   id  label                                              tweet  hashtags  \\\n",
       "0   1      0   @user when a father is dysfunctional and is s...         1   \n",
       "1   2      0  @user @user thanks for #lyft credit i can't us...         3   \n",
       "2   3      0                                bihday your majesty         0   \n",
       "3   4      0  #model   i love u take with u all the time in ...         1   \n",
       "4   5      0             factsguide: society now    #motivation         1   \n",
       "\n",
       "   usernames  words  numbers  characters  specials  \n",
       "0          1     21        0          79         3  \n",
       "1          2     22        0          93         8  \n",
       "2          0      5        0          17         0  \n",
       "3          0     17        0          42        27  \n",
       "4          0      8        0          30         2  "
      ]
     },
     "execution_count": 21,
     "metadata": {},
     "output_type": "execute_result"
    }
   ],
   "source": [
    "train['specials'] = train['tweet'].apply(count_special_characters)\n",
    "train.head()"
   ]
  },
  {
   "cell_type": "code",
   "execution_count": 30,
   "id": "subject-sandwich",
   "metadata": {},
   "outputs": [
    {
     "data": {
      "text/plain": [
       "Text(0, 0.5, 'Label')"
      ]
     },
     "execution_count": 30,
     "metadata": {},
     "output_type": "execute_result"
    },
    {
     "data": {
      "image/png": "[encoded data removed]",
      "text/plain": [
       "<Figure size 504x432 with 1 Axes>"
      ]
     },
     "metadata": {},
     "output_type": "display_data"
    }
   ],
   "source": [
    "plt.figure(figsize=(7, 6))\n",
    "sns.histplot(data=train, x='specials', binwidth=2)\n",
    "plt.title('Special characters per text', fontsize=13)\n",
    "plt.xlabel('Specials', fontsize=13)\n",
    "plt.ylabel('Label', fontsize=13)"
   ]
  },
  {
   "cell_type": "code",
   "execution_count": 33,
   "id": "peaceful-strand",
   "metadata": {},
   "outputs": [
    {
     "name": "stdout",
     "output_type": "stream",
     "text": [
      "Max special characters per text: 165\n"
     ]
    }
   ],
   "source": [
    "print('Max special characters per text: {}'.format(max(train['specials'])))"
   ]
  },
  {
   "cell_type": "code",
   "execution_count": 38,
   "id": "rising-garden",
   "metadata": {},
   "outputs": [
    {
     "name": "stdout",
     "output_type": "stream",
     "text": [
      "awesom beautiful wonderfulððððððððððððð±ð±ð±ð±ð±ð±ðððððððððððððððððððððððððððððððððð»ð»ð»ð» \n"
     ]
    }
   ],
   "source": [
    "print(train['tweet'][np.argmax(train['specials'])])"
   ]
  },
  {
   "cell_type": "markdown",
   "id": "included-northwest",
   "metadata": {},
   "source": [
    "### Stopwords"
   ]
  },
  {
   "cell_type": "code",
   "execution_count": 23,
   "id": "small-charles",
   "metadata": {},
   "outputs": [],
   "source": [
    "def count_stopwords(text):\n",
    "    text = str(text)\n",
    "    count = [word for word in text.split(' ') if word in stop_words]\n",
    "    return len(count)"
   ]
  },
  {
   "cell_type": "code",
   "execution_count": 24,
   "id": "designing-reproduction",
   "metadata": {},
   "outputs": [
    {
     "data": {
      "text/html": [
       "<div>\n",
       "<style scoped>\n",
       "    .dataframe tbody tr th:only-of-type {\n",
       "        vertical-align: middle;\n",
       "    }\n",
       "\n",
       "    .dataframe tbody tr th {\n",
       "        vertical-align: top;\n",
       "    }\n",
       "\n",
       "    .dataframe thead th {\n",
       "        text-align: right;\n",
       "    }\n",
       "</style>\n",
       "<table border=\"1\" class=\"dataframe\">\n",
       "  <thead>\n",
       "    <tr style=\"text-align: right;\">\n",
       "      <th></th>\n",
       "      <th>id</th>\n",
       "      <th>label</th>\n",
       "      <th>tweet</th>\n",
       "      <th>hashtags</th>\n",
       "      <th>usernames</th>\n",
       "      <th>words</th>\n",
       "      <th>numbers</th>\n",
       "      <th>characters</th>\n",
       "      <th>specials</th>\n",
       "      <th>stopwords</th>\n",
       "    </tr>\n",
       "  </thead>\n",
       "  <tbody>\n",
       "    <tr>\n",
       "      <th>0</th>\n",
       "      <td>1</td>\n",
       "      <td>0</td>\n",
       "      <td>@user when a father is dysfunctional and is s...</td>\n",
       "      <td>1</td>\n",
       "      <td>1</td>\n",
       "      <td>21</td>\n",
       "      <td>0</td>\n",
       "      <td>79</td>\n",
       "      <td>3</td>\n",
       "      <td>10</td>\n",
       "    </tr>\n",
       "    <tr>\n",
       "      <th>1</th>\n",
       "      <td>2</td>\n",
       "      <td>0</td>\n",
       "      <td>@user @user thanks for #lyft credit i can't us...</td>\n",
       "      <td>3</td>\n",
       "      <td>2</td>\n",
       "      <td>22</td>\n",
       "      <td>0</td>\n",
       "      <td>93</td>\n",
       "      <td>8</td>\n",
       "      <td>5</td>\n",
       "    </tr>\n",
       "    <tr>\n",
       "      <th>2</th>\n",
       "      <td>3</td>\n",
       "      <td>0</td>\n",
       "      <td>bihday your majesty</td>\n",
       "      <td>0</td>\n",
       "      <td>0</td>\n",
       "      <td>5</td>\n",
       "      <td>0</td>\n",
       "      <td>17</td>\n",
       "      <td>0</td>\n",
       "      <td>1</td>\n",
       "    </tr>\n",
       "    <tr>\n",
       "      <th>3</th>\n",
       "      <td>4</td>\n",
       "      <td>0</td>\n",
       "      <td>#model   i love u take with u all the time in ...</td>\n",
       "      <td>1</td>\n",
       "      <td>0</td>\n",
       "      <td>17</td>\n",
       "      <td>0</td>\n",
       "      <td>42</td>\n",
       "      <td>27</td>\n",
       "      <td>5</td>\n",
       "    </tr>\n",
       "    <tr>\n",
       "      <th>4</th>\n",
       "      <td>5</td>\n",
       "      <td>0</td>\n",
       "      <td>factsguide: society now    #motivation</td>\n",
       "      <td>1</td>\n",
       "      <td>0</td>\n",
       "      <td>8</td>\n",
       "      <td>0</td>\n",
       "      <td>30</td>\n",
       "      <td>2</td>\n",
       "      <td>1</td>\n",
       "    </tr>\n",
       "  </tbody>\n",
       "</table>\n",
       "</div>"
      ],
      "text/plain": [
       "   id  label                                              tweet  hashtags  \\\n",
       "0   1      0   @user when a father is dysfunctional and is s...         1   \n",
       "1   2      0  @user @user thanks for #lyft credit i can't us...         3   \n",
       "2   3      0                                bihday your majesty         0   \n",
       "3   4      0  #model   i love u take with u all the time in ...         1   \n",
       "4   5      0             factsguide: society now    #motivation         1   \n",
       "\n",
       "   usernames  words  numbers  characters  specials  stopwords  \n",
       "0          1     21        0          79         3         10  \n",
       "1          2     22        0          93         8          5  \n",
       "2          0      5        0          17         0          1  \n",
       "3          0     17        0          42        27          5  \n",
       "4          0      8        0          30         2          1  "
      ]
     },
     "execution_count": 24,
     "metadata": {},
     "output_type": "execute_result"
    }
   ],
   "source": [
    "train['stopwords'] = train['tweet'].apply(count_stopwords)\n",
    "train.head()"
   ]
  },
  {
   "cell_type": "code",
   "execution_count": 25,
   "id": "amino-omega",
   "metadata": {},
   "outputs": [
    {
     "data": {
      "text/plain": [
       "Text(0, 0.5, 'Label')"
      ]
     },
     "execution_count": 25,
     "metadata": {},
     "output_type": "execute_result"
    },
    {
     "data": {
      "image/png": "[encoded data removed]",
      "text/plain": [
       "<Figure size 504x432 with 1 Axes>"
      ]
     },
     "metadata": {},
     "output_type": "display_data"
    }
   ],
   "source": [
    "plt.figure(figsize=(7, 6))\n",
    "sns.histplot(data=train, x='stopwords', binwidth=2)\n",
    "plt.title('Stopwords per text', fontsize=13)\n",
    "plt.xlabel('Stopwords', fontsize=13)\n",
    "plt.ylabel('Label', fontsize=13)"
   ]
  },
  {
   "cell_type": "code",
   "execution_count": 32,
   "id": "important-arbitration",
   "metadata": {},
   "outputs": [
    {
     "name": "stdout",
     "output_type": "stream",
     "text": [
      "Max stopwords per text: 22\n"
     ]
    }
   ],
   "source": [
    "print('Max stopwords per text: {}'.format(max(train['stopwords'])))"
   ]
  },
  {
   "cell_type": "markdown",
   "id": "compressed-twins",
   "metadata": {},
   "source": [
    "### Word count"
   ]
  },
  {
   "cell_type": "code",
   "execution_count": 58,
   "id": "specified-person",
   "metadata": {},
   "outputs": [],
   "source": [
    "counter = Counter(chain.from_iterable(map(str.split, train['tweet'].tolist())))"
   ]
  },
  {
   "cell_type": "code",
   "execution_count": 68,
   "id": "rising-builder",
   "metadata": {},
   "outputs": [
    {
     "data": {
      "text/plain": [
       "[('@user', 17291),\n",
       " ('the', 10065),\n",
       " ('to', 9768),\n",
       " ('a', 6261),\n",
       " ('i', 5655),\n",
       " ('you', 4949),\n",
       " ('and', 4831),\n",
       " ('in', 4570),\n",
       " ('for', 4435),\n",
       " ('of', 4152),\n",
       " ('is', 4102),\n",
       " ('my', 3626),\n",
       " ('on', 2554),\n",
       " ('with', 2482),\n",
       " ('this', 2462),\n",
       " ('be', 2373),\n",
       " ('it', 2100),\n",
       " ('so', 1889),\n",
       " ('all', 1823),\n",
       " ('are', 1802)]"
      ]
     },
     "execution_count": 68,
     "metadata": {},
     "output_type": "execute_result"
    }
   ],
   "source": [
    "common_words = counter.most_common(20)\n",
    "common_words"
   ]
  },
  {
   "cell_type": "code",
   "execution_count": 74,
   "id": "later-raleigh",
   "metadata": {},
   "outputs": [],
   "source": [
    "def check_stopword(common_words):\n",
    "    common_words = [(word[0], 'yes') if word[0] in stop_words else (word[0], 'no') for word in common_words]\n",
    "    return common_words"
   ]
  },
  {
   "cell_type": "code",
   "execution_count": 75,
   "id": "naughty-stamp",
   "metadata": {},
   "outputs": [
    {
     "data": {
      "text/plain": [
       "[('@user', 'no'),\n",
       " ('the', 'yes'),\n",
       " ('to', 'yes'),\n",
       " ('a', 'yes'),\n",
       " ('i', 'yes'),\n",
       " ('you', 'yes'),\n",
       " ('and', 'yes'),\n",
       " ('in', 'yes'),\n",
       " ('for', 'yes'),\n",
       " ('of', 'yes'),\n",
       " ('is', 'yes'),\n",
       " ('my', 'yes'),\n",
       " ('on', 'yes'),\n",
       " ('with', 'yes'),\n",
       " ('this', 'yes'),\n",
       " ('be', 'yes'),\n",
       " ('it', 'yes'),\n",
       " ('so', 'yes'),\n",
       " ('all', 'yes'),\n",
       " ('are', 'yes')]"
      ]
     },
     "execution_count": 75,
     "metadata": {},
     "output_type": "execute_result"
    }
   ],
   "source": [
    "check_stopword(common_words)"
   ]
  },
  {
   "cell_type": "markdown",
   "id": "popular-healthcare",
   "metadata": {},
   "source": [
    "### Word count per label"
   ]
  },
  {
   "cell_type": "code",
   "execution_count": 77,
   "id": "restricted-county",
   "metadata": {},
   "outputs": [
    {
     "data": {
      "text/plain": [
       "[('@user', 15465),\n",
       " ('the', 9249),\n",
       " ('to', 9207),\n",
       " ('a', 5654),\n",
       " ('i', 5455),\n",
       " ('you', 4555),\n",
       " ('and', 4473),\n",
       " ('for', 4196),\n",
       " ('in', 4147),\n",
       " ('of', 3695),\n",
       " ('is', 3677),\n",
       " ('my', 3556),\n",
       " ('with', 2369),\n",
       " ('on', 2345),\n",
       " ('this', 2294),\n",
       " ('be', 2172),\n",
       " ('it', 1977),\n",
       " ('so', 1806),\n",
       " ('all', 1743),\n",
       " ('that', 1593),\n",
       " ('your', 1584),\n",
       " ('at', 1540),\n",
       " ('have', 1503),\n",
       " ('are', 1488),\n",
       " ('day', 1448),\n",
       " ('#love', 1439),\n",
       " ('happy', 1318),\n",
       " ('&amp;', 1307),\n",
       " ('just', 1256),\n",
       " ('when', 1181),\n",
       " ('will', 1177),\n",
       " ('-', 1163),\n",
       " ('we', 1159),\n",
       " ('me', 1148),\n",
       " ('am', 1138)]"
      ]
     },
     "execution_count": 77,
     "metadata": {},
     "output_type": "execute_result"
    }
   ],
   "source": [
    "#label 0\n",
    "train_label_zero = train.copy()\n",
    "train_label_zero = train_label_zero[train_label_zero['label'] == 0]\n",
    "counter_zero = Counter(chain.from_iterable(map(str.split, train_label_zero['tweet'].tolist())))\n",
    "counter_zero = counter_zero.most_common(35)\n",
    "counter_zero"
   ]
  },
  {
   "cell_type": "code",
   "execution_count": 78,
   "id": "awful-hughes",
   "metadata": {},
   "outputs": [
    {
     "data": {
      "text/plain": [
       "[('@user', 'no'),\n",
       " ('the', 'yes'),\n",
       " ('to', 'yes'),\n",
       " ('a', 'yes'),\n",
       " ('i', 'yes'),\n",
       " ('you', 'yes'),\n",
       " ('and', 'yes'),\n",
       " ('for', 'yes'),\n",
       " ('in', 'yes'),\n",
       " ('of', 'yes'),\n",
       " ('is', 'yes'),\n",
       " ('my', 'yes'),\n",
       " ('with', 'yes'),\n",
       " ('on', 'yes'),\n",
       " ('this', 'yes'),\n",
       " ('be', 'yes'),\n",
       " ('it', 'yes'),\n",
       " ('so', 'yes'),\n",
       " ('all', 'yes'),\n",
       " ('that', 'yes'),\n",
       " ('your', 'yes'),\n",
       " ('at', 'yes'),\n",
       " ('have', 'yes'),\n",
       " ('are', 'yes'),\n",
       " ('day', 'no'),\n",
       " ('#love', 'no'),\n",
       " ('happy', 'no'),\n",
       " ('&amp;', 'no'),\n",
       " ('just', 'yes'),\n",
       " ('when', 'yes'),\n",
       " ('will', 'yes'),\n",
       " ('-', 'no'),\n",
       " ('we', 'yes'),\n",
       " ('me', 'yes'),\n",
       " ('am', 'yes')]"
      ]
     },
     "execution_count": 78,
     "metadata": {},
     "output_type": "execute_result"
    }
   ],
   "source": [
    "check_stopword(counter_zero)"
   ]
  },
  {
   "cell_type": "code",
   "execution_count": 79,
   "id": "honest-eligibility",
   "metadata": {},
   "outputs": [
    {
     "data": {
      "text/plain": [
       "[('@user', 1826),\n",
       " ('the', 816),\n",
       " ('a', 607),\n",
       " ('to', 561),\n",
       " ('of', 457),\n",
       " ('is', 425),\n",
       " ('in', 423),\n",
       " ('you', 394),\n",
       " ('and', 358),\n",
       " ('are', 314),\n",
       " ('&amp;', 267),\n",
       " ('for', 239),\n",
       " ('on', 209),\n",
       " ('be', 201),\n",
       " ('i', 200),\n",
       " ('this', 168),\n",
       " ('that', 164),\n",
       " ('â\\x80¦', 160),\n",
       " ('not', 148),\n",
       " ('like', 131)]"
      ]
     },
     "execution_count": 79,
     "metadata": {},
     "output_type": "execute_result"
    }
   ],
   "source": [
    "#label 1\n",
    "train_label_one = train.copy()\n",
    "train_label_one = train_label_one[train_label_one['label'] == 1]\n",
    "counter_one = Counter(chain.from_iterable(map(str.split, train_label_one['tweet'].tolist())))\n",
    "counter_one = counter_one.most_common(20)\n",
    "counter_one"
   ]
  },
  {
   "cell_type": "code",
   "execution_count": 80,
   "id": "comfortable-victim",
   "metadata": {},
   "outputs": [
    {
     "data": {
      "text/plain": [
       "[('@user', 'no'),\n",
       " ('the', 'yes'),\n",
       " ('a', 'yes'),\n",
       " ('to', 'yes'),\n",
       " ('of', 'yes'),\n",
       " ('is', 'yes'),\n",
       " ('in', 'yes'),\n",
       " ('you', 'yes'),\n",
       " ('and', 'yes'),\n",
       " ('are', 'yes'),\n",
       " ('&amp;', 'no'),\n",
       " ('for', 'yes'),\n",
       " ('on', 'yes'),\n",
       " ('be', 'yes'),\n",
       " ('i', 'yes'),\n",
       " ('this', 'yes'),\n",
       " ('that', 'yes'),\n",
       " ('â\\x80¦', 'no'),\n",
       " ('not', 'yes'),\n",
       " ('like', 'no')]"
      ]
     },
     "execution_count": 80,
     "metadata": {},
     "output_type": "execute_result"
    }
   ],
   "source": [
    "check_stopword(counter_one)"
   ]
  }
 ],
 "metadata": {
  "kernelspec": {
   "display_name": "Python 3",
   "language": "python",
   "name": "python3"
  },
  "language_info": {
   "codemirror_mode": {
    "name": "ipython",
    "version": 3
   },
   "file_extension": ".py",
   "mimetype": "text/x-python",
   "name": "python",
   "nbconvert_exporter": "python",
   "pygments_lexer": "ipython3",
   "version": "3.8.6"
  }
 },
 "nbformat": 4,
 "nbformat_minor": 5
}
