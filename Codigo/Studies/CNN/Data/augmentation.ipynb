{
 "cells": [
  {
   "cell_type": "code",
   "execution_count": 1,
   "id": "867eba78",
   "metadata": {},
   "outputs": [
    {
     "name": "stderr",
     "output_type": "stream",
     "text": [
      "[nltk_data] Downloading package stopwords to /home/greca/nltk_data...\n",
      "[nltk_data]   Package stopwords is already up-to-date!\n"
     ]
    }
   ],
   "source": [
    "import pandas as pd\n",
    "import numpy as np\n",
    "import re\n",
    "import unidecode\n",
    "import warnings\n",
    "import matplotlib.pyplot as plt\n",
    "import seaborn as sns\n",
    "import nltk\n",
    "nltk.download('stopwords')\n",
    "\n",
    "from nltk.corpus import stopwords\n",
    "\n",
    "sw = set(stopwords.words('english'))\n",
    "np.random.seed(23)\n",
    "warnings.filterwarnings('ignore')\n",
    "sns.set_style('darkgrid')"
   ]
  },
  {
   "cell_type": "code",
   "execution_count": 2,
   "id": "1143439e",
   "metadata": {},
   "outputs": [
    {
     "data": {
      "text/html": [
       "<div>\n",
       "<style scoped>\n",
       "    .dataframe tbody tr th:only-of-type {\n",
       "        vertical-align: middle;\n",
       "    }\n",
       "\n",
       "    .dataframe tbody tr th {\n",
       "        vertical-align: top;\n",
       "    }\n",
       "\n",
       "    .dataframe thead th {\n",
       "        text-align: right;\n",
       "    }\n",
       "</style>\n",
       "<table border=\"1\" class=\"dataframe\">\n",
       "  <thead>\n",
       "    <tr style=\"text-align: right;\">\n",
       "      <th></th>\n",
       "      <th>label</th>\n",
       "      <th>tweet</th>\n",
       "    </tr>\n",
       "  </thead>\n",
       "  <tbody>\n",
       "    <tr>\n",
       "      <th>0</th>\n",
       "      <td>0</td>\n",
       "      <td>@user when a father is dysfunctional and is s...</td>\n",
       "    </tr>\n",
       "    <tr>\n",
       "      <th>1</th>\n",
       "      <td>0</td>\n",
       "      <td>@user @user thanks for #lyft credit i can't us...</td>\n",
       "    </tr>\n",
       "    <tr>\n",
       "      <th>2</th>\n",
       "      <td>0</td>\n",
       "      <td>bihday your majesty</td>\n",
       "    </tr>\n",
       "    <tr>\n",
       "      <th>3</th>\n",
       "      <td>0</td>\n",
       "      <td>#model   i love u take with u all the time in ...</td>\n",
       "    </tr>\n",
       "    <tr>\n",
       "      <th>4</th>\n",
       "      <td>0</td>\n",
       "      <td>factsguide: society now    #motivation</td>\n",
       "    </tr>\n",
       "  </tbody>\n",
       "</table>\n",
       "</div>"
      ],
      "text/plain": [
       "   label                                              tweet\n",
       "0      0   @user when a father is dysfunctional and is s...\n",
       "1      0  @user @user thanks for #lyft credit i can't us...\n",
       "2      0                                bihday your majesty\n",
       "3      0  #model   i love u take with u all the time in ...\n",
       "4      0             factsguide: society now    #motivation"
      ]
     },
     "execution_count": 2,
     "metadata": {},
     "output_type": "execute_result"
    }
   ],
   "source": [
    "train = pd.read_csv('train.csv')\n",
    "train = train.drop(columns=['id'])\n",
    "train.head()"
   ]
  },
  {
   "cell_type": "markdown",
   "id": "f780425c",
   "metadata": {},
   "source": [
    "## No preprocessing"
   ]
  },
  {
   "cell_type": "code",
   "execution_count": 3,
   "id": "28f104ef",
   "metadata": {},
   "outputs": [
    {
     "data": {
      "text/plain": [
       "(2242, 2)"
      ]
     },
     "execution_count": 3,
     "metadata": {},
     "output_type": "execute_result"
    }
   ],
   "source": [
    "minority_classes = train[train['label'] == 1]\n",
    "minority_classes.shape"
   ]
  },
  {
   "cell_type": "code",
   "execution_count": 4,
   "id": "82264271",
   "metadata": {},
   "outputs": [],
   "source": [
    "f = open('no_preprocessing.txt', 'w+')\n",
    "\n",
    "messages_nopreprocessing = minority_classes['tweet'].tolist()\n",
    "\n",
    "for tweet in messages_nopreprocessing:\n",
    "    \n",
    "    f.write('1\\t'+str(tweet)+'\\n')"
   ]
  },
  {
   "cell_type": "markdown",
   "id": "96e43494",
   "metadata": {},
   "source": [
    "## Using preprocessing"
   ]
  },
  {
   "cell_type": "code",
   "execution_count": 5,
   "id": "9c22f7df",
   "metadata": {},
   "outputs": [],
   "source": [
    "def remove_username(text):\n",
    "    text = re.sub(r'\\@[^\\s]+', ' ', text)\n",
    "    \n",
    "    return text\n",
    "\n",
    "def remove_newline(text):\n",
    "    text = text.replace('\\n', ' ')\n",
    "    \n",
    "    return text\n",
    "\n",
    "def only_letters(text):\n",
    "    text = re.sub(r'[^A-Za-z]+', ' ', text)\n",
    "    \n",
    "    return text\n",
    "\n",
    "def remove_link(text):\n",
    "    text = re.sub(r'www\\.?[^\\s]+', ' ', text)\n",
    "    \n",
    "    return text\n",
    "\n",
    "def remove_hyperlink(text):\n",
    "    text = re.sub(r'\\<.?\\>', ' ', text)\n",
    "    \n",
    "    return text\n",
    "\n",
    "def remove_accent(text):\n",
    "    text = unidecode.unidecode(text)\n",
    "    \n",
    "    return text\n",
    "\n",
    "def adjustment_text(text):\n",
    "    text = re.sub(r'\\s+', ' ', text)\n",
    "    text = text.strip()\n",
    "    \n",
    "    return text\n",
    "\n",
    "def remove_stopwords(text):\n",
    "    text = [word for word in text.split() if word not in sw]\n",
    "    text = ' '.join(text)\n",
    "    \n",
    "    return text\n",
    "\n",
    "def remove_spam(text):\n",
    "    text = re.sub(r'\\&amp', ' ', text)\n",
    "    text = re.sub(r'\\&lt', ' ', text)\n",
    "    text = re.sub(r'\\&gt', ' ', text)\n",
    "    text = re.sub(r'\\#follow|\\#followme|\\#like|\\#f4f|\\#photooftheday', ' ', text)\n",
    "    \n",
    "    return text\n",
    "\n",
    "def remove_slangs(text):\n",
    "    text = re.sub(r' b4 ', ' before ', text)\n",
    "    text = re.sub(r' 2b ', ' to be ', text)\n",
    "    text = re.sub(r' 2morrow ', ' tomorrow ', text)\n",
    "    text = re.sub(r' rn ', ' right now ', text)\n",
    "    text = re.sub(r' brb ', ' be right back ', text)\n",
    "    text = re.sub(r' mb ', ' my bad ', text)\n",
    "    text = re.sub(r' luv ', ' love ', text)\n",
    "    text = re.sub(r' b ', ' be ', text)\n",
    "    text = re.sub(r' r ', ' are ', text)\n",
    "    text = re.sub(r' u ', ' you ', text)\n",
    "    text = re.sub(r' y ', ' why ', text)\n",
    "    text = re.sub(r' ur ', ' your ', text)\n",
    "    text = re.sub(r' hbd ', ' happy birthday ', text)\n",
    "    text = re.sub(r' bday ', ' birthday ', text)\n",
    "    text = re.sub(r' bihday ', ' birthday ', text)\n",
    "    text = re.sub(r' omg ', ' oh my god ', text)\n",
    "    text = re.sub(r' lol ', ' laughing out loud ', text)\n",
    "    \n",
    "    return text\n",
    "\n",
    "def remove_abbreviations(text):\n",
    "    text = re.sub(r\" can\\'t \", \" can not \", text)\n",
    "    text = re.sub(r\" i\\'m \", \" i am \", text)\n",
    "    text = re.sub(r\" i\\'ll \", \" i will \", text)\n",
    "    text = re.sub(r\" i\\'d \", \" i would \", text)\n",
    "    text = re.sub(r\" i\\'ve \", \" i have \", text)\n",
    "    text = re.sub(r\" ain\\'t \", \" am not \", text)\n",
    "    text = re.sub(r\" haven\\'t \", \" have not \", text)\n",
    "    text = re.sub(r\" hasn\\'t \", \" has not \", text)\n",
    "    text = re.sub(r\" can\\'t \", \" can not \", text)\n",
    "    text = re.sub(r\" won\\'t \", \" will not \", text)\n",
    "    text = re.sub(r\" you\\'re \", \" you are \", text)\n",
    "    text = re.sub(r\" we\\'re \", \" we are \", text)\n",
    "    text = re.sub(r\" they\\'re \", \" they are \", text)\n",
    "    text = re.sub(r\" he\\'s \", \" he is \", text)\n",
    "    text = re.sub(r\" she\\'s \", \" she is \", text)\n",
    "    text = re.sub(r\" it\\'s \", \" it is \", text)\n",
    "    text = re.sub(r\" don\\'t \", \" do not \", text)\n",
    "    text = re.sub(r\" doesn\\'t \", \" does not \", text)\n",
    "    text = re.sub(r\" wouldn\\'t \", \" would not \", text)\n",
    "    text = re.sub(r\" couldn\\'t \", \" could not \", text)\n",
    "    text = re.sub(r\" shouldn\\'t \", \" should not \", text)\n",
    "    text = re.sub(r\" no\\-one \", \" noone \", text)\n",
    "    \n",
    "    return text\n",
    "\n",
    "def remove_one_len_word(text):\n",
    "    text = re.sub(r'\\b[a-z]\\b', ' ', text)\n",
    "    \n",
    "    return text\n",
    "\n",
    "def preprocessing(data):\n",
    "    data['cleaned_tweet'] = data['tweet'].apply(str)\n",
    "    data['cleaned_tweet'] = data['cleaned_tweet'].apply(lambda x: x.lower())\n",
    "    data['cleaned_tweet'] = data['cleaned_tweet'].apply(remove_newline)\n",
    "    data['cleaned_tweet'] = data['cleaned_tweet'].apply(remove_hyperlink)\n",
    "    data['cleaned_tweet'] = data['cleaned_tweet'].apply(remove_spam)\n",
    "    data['cleaned_tweet'] = data['cleaned_tweet'].apply(remove_link)\n",
    "    data['cleaned_tweet'] = data['cleaned_tweet'].apply(remove_username)\n",
    "    data['cleaned_tweet'] = data['cleaned_tweet'].apply(remove_accent)\n",
    "    data['cleaned_tweet'] = data['cleaned_tweet'].apply(remove_abbreviations)\n",
    "    data['cleaned_tweet'] = data['cleaned_tweet'].apply(only_letters)\n",
    "    data['cleaned_tweet'] = data['cleaned_tweet'].apply(remove_slangs)\n",
    "    data['cleaned_tweet'] = data['cleaned_tweet'].apply(remove_stopwords)\n",
    "    data['cleaned_tweet'] = data['cleaned_tweet'].apply(remove_one_len_word)\n",
    "    data['cleaned_tweet'] = data['cleaned_tweet'].apply(adjustment_text)\n",
    "      \n",
    "    return data"
   ]
  },
  {
   "cell_type": "code",
   "execution_count": 6,
   "id": "4e5ce220",
   "metadata": {},
   "outputs": [],
   "source": [
    "train_preprocessed = preprocessing(train)\n",
    "train_preprocessed = train_preprocessed.drop_duplicates()\n",
    "train_preprocessed = train_preprocessed.dropna()"
   ]
  },
  {
   "cell_type": "code",
   "execution_count": 7,
   "id": "4caa96b5",
   "metadata": {},
   "outputs": [
    {
     "data": {
      "text/plain": [
       "(2013, 3)"
      ]
     },
     "execution_count": 7,
     "metadata": {},
     "output_type": "execute_result"
    }
   ],
   "source": [
    "minority_classes_preprocessed = train_preprocessed[train_preprocessed['label'] == 1]\n",
    "minority_classes_preprocessed.shape"
   ]
  },
  {
   "cell_type": "code",
   "execution_count": 8,
   "id": "7bdf4411",
   "metadata": {},
   "outputs": [],
   "source": [
    "f = open('preprocessing.txt', 'w+')\n",
    "\n",
    "messages_nopreprocessing = minority_classes_preprocessed['cleaned_tweet'].tolist()\n",
    "\n",
    "for tweet in messages_nopreprocessing:\n",
    "    \n",
    "    if len(tweet.split()) > 1:\n",
    "    \n",
    "        f.write('1\\t'+str(tweet)+'\\n')"
   ]
  },
  {
   "cell_type": "markdown",
   "id": "8104a0be",
   "metadata": {},
   "source": [
    "## EDA"
   ]
  },
  {
   "cell_type": "markdown",
   "id": "a552d5e7",
   "metadata": {},
   "source": [
    "### No preprocessing"
   ]
  },
  {
   "cell_type": "code",
   "execution_count": 9,
   "id": "208478cb",
   "metadata": {},
   "outputs": [
    {
     "data": {
      "text/html": [
       "<div>\n",
       "<style scoped>\n",
       "    .dataframe tbody tr th:only-of-type {\n",
       "        vertical-align: middle;\n",
       "    }\n",
       "\n",
       "    .dataframe tbody tr th {\n",
       "        vertical-align: top;\n",
       "    }\n",
       "\n",
       "    .dataframe thead th {\n",
       "        text-align: right;\n",
       "    }\n",
       "</style>\n",
       "<table border=\"1\" class=\"dataframe\">\n",
       "  <thead>\n",
       "    <tr style=\"text-align: right;\">\n",
       "      <th></th>\n",
       "      <th>label</th>\n",
       "      <th>tweet</th>\n",
       "    </tr>\n",
       "  </thead>\n",
       "  <tbody>\n",
       "    <tr>\n",
       "      <th>0</th>\n",
       "      <td>0</td>\n",
       "      <td>@user when a father is dysfunctional and is s...</td>\n",
       "    </tr>\n",
       "    <tr>\n",
       "      <th>1</th>\n",
       "      <td>0</td>\n",
       "      <td>@user @user thanks for #lyft credit i can't us...</td>\n",
       "    </tr>\n",
       "    <tr>\n",
       "      <th>2</th>\n",
       "      <td>0</td>\n",
       "      <td>bihday your majesty</td>\n",
       "    </tr>\n",
       "    <tr>\n",
       "      <th>3</th>\n",
       "      <td>0</td>\n",
       "      <td>#model   i love u take with u all the time in ...</td>\n",
       "    </tr>\n",
       "    <tr>\n",
       "      <th>4</th>\n",
       "      <td>0</td>\n",
       "      <td>factsguide: society now    #motivation</td>\n",
       "    </tr>\n",
       "    <tr>\n",
       "      <th>...</th>\n",
       "      <td>...</td>\n",
       "      <td>...</td>\n",
       "    </tr>\n",
       "    <tr>\n",
       "      <th>31956</th>\n",
       "      <td>0</td>\n",
       "      <td>off fishing tomorrow @user carnt wait first ti...</td>\n",
       "    </tr>\n",
       "    <tr>\n",
       "      <th>31957</th>\n",
       "      <td>0</td>\n",
       "      <td>ate @user isz that youuu?ðððððð...</td>\n",
       "    </tr>\n",
       "    <tr>\n",
       "      <th>31958</th>\n",
       "      <td>0</td>\n",
       "      <td>to see nina turner on the airwaves trying to...</td>\n",
       "    </tr>\n",
       "    <tr>\n",
       "      <th>31959</th>\n",
       "      <td>0</td>\n",
       "      <td>listening to sad songs on a monday morning otw...</td>\n",
       "    </tr>\n",
       "    <tr>\n",
       "      <th>31961</th>\n",
       "      <td>0</td>\n",
       "      <td>thank you @user for you follow</td>\n",
       "    </tr>\n",
       "  </tbody>\n",
       "</table>\n",
       "<p>29720 rows × 2 columns</p>\n",
       "</div>"
      ],
      "text/plain": [
       "       label                                              tweet\n",
       "0          0   @user when a father is dysfunctional and is s...\n",
       "1          0  @user @user thanks for #lyft credit i can't us...\n",
       "2          0                                bihday your majesty\n",
       "3          0  #model   i love u take with u all the time in ...\n",
       "4          0             factsguide: society now    #motivation\n",
       "...      ...                                                ...\n",
       "31956      0  off fishing tomorrow @user carnt wait first ti...\n",
       "31957      0  ate @user isz that youuu?ðððððð...\n",
       "31958      0    to see nina turner on the airwaves trying to...\n",
       "31959      0  listening to sad songs on a monday morning otw...\n",
       "31961      0                   thank you @user for you follow  \n",
       "\n",
       "[29720 rows x 2 columns]"
      ]
     },
     "execution_count": 9,
     "metadata": {},
     "output_type": "execute_result"
    }
   ],
   "source": [
    "majority_classes = train[train['label'] == 0]\n",
    "majority_classes = majority_classes[['label', 'tweet']]\n",
    "majority_classes"
   ]
  },
  {
   "cell_type": "code",
   "execution_count": 10,
   "id": "f9ed43a4",
   "metadata": {},
   "outputs": [
    {
     "data": {
      "text/html": [
       "<div>\n",
       "<style scoped>\n",
       "    .dataframe tbody tr th:only-of-type {\n",
       "        vertical-align: middle;\n",
       "    }\n",
       "\n",
       "    .dataframe tbody tr th {\n",
       "        vertical-align: top;\n",
       "    }\n",
       "\n",
       "    .dataframe thead th {\n",
       "        text-align: right;\n",
       "    }\n",
       "</style>\n",
       "<table border=\"1\" class=\"dataframe\">\n",
       "  <thead>\n",
       "    <tr style=\"text-align: right;\">\n",
       "      <th></th>\n",
       "      <th>label</th>\n",
       "      <th>tweet</th>\n",
       "    </tr>\n",
       "  </thead>\n",
       "  <tbody>\n",
       "    <tr>\n",
       "      <th>0</th>\n",
       "      <td>1</td>\n",
       "      <td>user cnn calls michigan middle school build bo...</td>\n",
       "    </tr>\n",
       "    <tr>\n",
       "      <th>1</th>\n",
       "      <td>1</td>\n",
       "      <td>user cnn calls michigan middle school build th...</td>\n",
       "    </tr>\n",
       "    <tr>\n",
       "      <th>2</th>\n",
       "      <td>1</td>\n",
       "      <td>user cnn calls michigan middle school human bo...</td>\n",
       "    </tr>\n",
       "    <tr>\n",
       "      <th>3</th>\n",
       "      <td>1</td>\n",
       "      <td>user cnn calls michigan middle school build th...</td>\n",
       "    </tr>\n",
       "    <tr>\n",
       "      <th>4</th>\n",
       "      <td>1</td>\n",
       "      <td>user cnn calls michigan middle school build th...</td>\n",
       "    </tr>\n",
       "  </tbody>\n",
       "</table>\n",
       "</div>"
      ],
      "text/plain": [
       "   label                                              tweet\n",
       "0      1  user cnn calls michigan middle school build bo...\n",
       "1      1  user cnn calls michigan middle school build th...\n",
       "2      1  user cnn calls michigan middle school human bo...\n",
       "3      1  user cnn calls michigan middle school build th...\n",
       "4      1  user cnn calls michigan middle school build th..."
      ]
     },
     "execution_count": 10,
     "metadata": {},
     "output_type": "execute_result"
    }
   ],
   "source": [
    "f = open('no_preprocessing_augmented.txt', 'r+')\n",
    "tweets_nopreprocessing = []\n",
    "\n",
    "for line in f:\n",
    "    _, tweet = line.split('\\t')\n",
    "    tweets_nopreprocessing.append(tweet)\n",
    "\n",
    "minority_class_noprep_augmented = pd.DataFrame({\n",
    "    'label': 1,\n",
    "    'tweet': tweets_nopreprocessing\n",
    "})\n",
    "\n",
    "minority_class_noprep_augmented.head()"
   ]
  },
  {
   "cell_type": "code",
   "execution_count": 11,
   "id": "f5121918",
   "metadata": {},
   "outputs": [
    {
     "data": {
      "text/html": [
       "<div>\n",
       "<style scoped>\n",
       "    .dataframe tbody tr th:only-of-type {\n",
       "        vertical-align: middle;\n",
       "    }\n",
       "\n",
       "    .dataframe tbody tr th {\n",
       "        vertical-align: top;\n",
       "    }\n",
       "\n",
       "    .dataframe thead th {\n",
       "        text-align: right;\n",
       "    }\n",
       "</style>\n",
       "<table border=\"1\" class=\"dataframe\">\n",
       "  <thead>\n",
       "    <tr style=\"text-align: right;\">\n",
       "      <th></th>\n",
       "      <th>label</th>\n",
       "      <th>tweet</th>\n",
       "    </tr>\n",
       "  </thead>\n",
       "  <tbody>\n",
       "    <tr>\n",
       "      <th>0</th>\n",
       "      <td>0</td>\n",
       "      <td>@user when a father is dysfunctional and is s...</td>\n",
       "    </tr>\n",
       "    <tr>\n",
       "      <th>1</th>\n",
       "      <td>0</td>\n",
       "      <td>@user @user thanks for #lyft credit i can't us...</td>\n",
       "    </tr>\n",
       "    <tr>\n",
       "      <th>2</th>\n",
       "      <td>0</td>\n",
       "      <td>bihday your majesty</td>\n",
       "    </tr>\n",
       "    <tr>\n",
       "      <th>3</th>\n",
       "      <td>0</td>\n",
       "      <td>#model   i love u take with u all the time in ...</td>\n",
       "    </tr>\n",
       "    <tr>\n",
       "      <th>4</th>\n",
       "      <td>0</td>\n",
       "      <td>factsguide: society now    #motivation</td>\n",
       "    </tr>\n",
       "  </tbody>\n",
       "</table>\n",
       "</div>"
      ],
      "text/plain": [
       "   label                                              tweet\n",
       "0      0   @user when a father is dysfunctional and is s...\n",
       "1      0  @user @user thanks for #lyft credit i can't us...\n",
       "2      0                                bihday your majesty\n",
       "3      0  #model   i love u take with u all the time in ...\n",
       "4      0             factsguide: society now    #motivation"
      ]
     },
     "execution_count": 11,
     "metadata": {},
     "output_type": "execute_result"
    }
   ],
   "source": [
    "full_data_noprep_augmented = pd.concat([majority_classes, minority_class_noprep_augmented], axis=0)\n",
    "full_data_noprep_augmented.head()"
   ]
  },
  {
   "cell_type": "code",
   "execution_count": 12,
   "id": "69636ca5",
   "metadata": {},
   "outputs": [
    {
     "data": {
      "text/plain": [
       "(49898, 2)"
      ]
     },
     "execution_count": 12,
     "metadata": {},
     "output_type": "execute_result"
    }
   ],
   "source": [
    "full_data_noprep_augmented.shape"
   ]
  },
  {
   "cell_type": "code",
   "execution_count": 13,
   "id": "49fe6c8f",
   "metadata": {},
   "outputs": [
    {
     "data": {
      "text/plain": [
       "<AxesSubplot:xlabel='label', ylabel='count'>"
      ]
     },
     "execution_count": 13,
     "metadata": {},
     "output_type": "execute_result"
    },
    {
     "data": {
      "image/png": "[encoded data removed]",
      "text/plain": [
       "<Figure size 432x288 with 1 Axes>"
      ]
     },
     "metadata": {},
     "output_type": "display_data"
    }
   ],
   "source": [
    "sns.countplot(data=full_data_noprep_augmented, x='label', color='cornflowerblue')"
   ]
  },
  {
   "cell_type": "code",
   "execution_count": 14,
   "id": "6815c996",
   "metadata": {},
   "outputs": [
    {
     "data": {
      "text/html": [
       "<div>\n",
       "<style scoped>\n",
       "    .dataframe tbody tr th:only-of-type {\n",
       "        vertical-align: middle;\n",
       "    }\n",
       "\n",
       "    .dataframe tbody tr th {\n",
       "        vertical-align: top;\n",
       "    }\n",
       "\n",
       "    .dataframe thead th {\n",
       "        text-align: right;\n",
       "    }\n",
       "</style>\n",
       "<table border=\"1\" class=\"dataframe\">\n",
       "  <thead>\n",
       "    <tr style=\"text-align: right;\">\n",
       "      <th></th>\n",
       "      <th>Total</th>\n",
       "      <th>Percentage</th>\n",
       "    </tr>\n",
       "  </thead>\n",
       "  <tbody>\n",
       "    <tr>\n",
       "      <th>0</th>\n",
       "      <td>29720</td>\n",
       "      <td>59.561505</td>\n",
       "    </tr>\n",
       "    <tr>\n",
       "      <th>1</th>\n",
       "      <td>20178</td>\n",
       "      <td>40.438495</td>\n",
       "    </tr>\n",
       "  </tbody>\n",
       "</table>\n",
       "</div>"
      ],
      "text/plain": [
       "   Total  Percentage\n",
       "0  29720   59.561505\n",
       "1  20178   40.438495"
      ]
     },
     "execution_count": 14,
     "metadata": {},
     "output_type": "execute_result"
    }
   ],
   "source": [
    "infos_noprep = pd.DataFrame({'Total': full_data_noprep_augmented['label'].value_counts(),\n",
    "                             'Percentage': (full_data_noprep_augmented['label'].value_counts()/full_data_noprep_augmented.shape[0])*100})\n",
    "\n",
    "infos_noprep"
   ]
  },
  {
   "cell_type": "code",
   "execution_count": 21,
   "id": "d821b73e",
   "metadata": {},
   "outputs": [],
   "source": [
    "full_data_noprep_augmented.to_csv('train_nopreprocessing_augmented.csv', index=False)"
   ]
  },
  {
   "cell_type": "markdown",
   "id": "4b0e2cf9",
   "metadata": {},
   "source": [
    "### Using preprocessing"
   ]
  },
  {
   "cell_type": "code",
   "execution_count": 15,
   "id": "f1df89d3",
   "metadata": {},
   "outputs": [
    {
     "data": {
      "text/html": [
       "<div>\n",
       "<style scoped>\n",
       "    .dataframe tbody tr th:only-of-type {\n",
       "        vertical-align: middle;\n",
       "    }\n",
       "\n",
       "    .dataframe tbody tr th {\n",
       "        vertical-align: top;\n",
       "    }\n",
       "\n",
       "    .dataframe thead th {\n",
       "        text-align: right;\n",
       "    }\n",
       "</style>\n",
       "<table border=\"1\" class=\"dataframe\">\n",
       "  <thead>\n",
       "    <tr style=\"text-align: right;\">\n",
       "      <th></th>\n",
       "      <th>label</th>\n",
       "      <th>cleaned_tweet</th>\n",
       "    </tr>\n",
       "  </thead>\n",
       "  <tbody>\n",
       "    <tr>\n",
       "      <th>0</th>\n",
       "      <td>0</td>\n",
       "      <td>father dysfunctional selfish drags kids dysfun...</td>\n",
       "    </tr>\n",
       "    <tr>\n",
       "      <th>1</th>\n",
       "      <td>0</td>\n",
       "      <td>thanks lyft credit use cause offer wheelchair ...</td>\n",
       "    </tr>\n",
       "    <tr>\n",
       "      <th>2</th>\n",
       "      <td>0</td>\n",
       "      <td>birthday majesty</td>\n",
       "    </tr>\n",
       "    <tr>\n",
       "      <th>3</th>\n",
       "      <td>0</td>\n",
       "      <td>model love take time urd ddddd</td>\n",
       "    </tr>\n",
       "    <tr>\n",
       "      <th>4</th>\n",
       "      <td>0</td>\n",
       "      <td>factsguide society motivation</td>\n",
       "    </tr>\n",
       "    <tr>\n",
       "      <th>...</th>\n",
       "      <td>...</td>\n",
       "      <td>...</td>\n",
       "    </tr>\n",
       "    <tr>\n",
       "      <th>31956</th>\n",
       "      <td>0</td>\n",
       "      <td>fishing tomorrow carnt wait first time years</td>\n",
       "    </tr>\n",
       "    <tr>\n",
       "      <th>31957</th>\n",
       "      <td>0</td>\n",
       "      <td>ate isz youuu ddddddddda</td>\n",
       "    </tr>\n",
       "    <tr>\n",
       "      <th>31958</th>\n",
       "      <td>0</td>\n",
       "      <td>see nina turner airwaves trying wrap mantle ge...</td>\n",
       "    </tr>\n",
       "    <tr>\n",
       "      <th>31959</th>\n",
       "      <td>0</td>\n",
       "      <td>listening sad songs monday morning otw work sad</td>\n",
       "    </tr>\n",
       "    <tr>\n",
       "      <th>31961</th>\n",
       "      <td>0</td>\n",
       "      <td>thank follow</td>\n",
       "    </tr>\n",
       "  </tbody>\n",
       "</table>\n",
       "<p>27517 rows × 2 columns</p>\n",
       "</div>"
      ],
      "text/plain": [
       "       label                                      cleaned_tweet\n",
       "0          0  father dysfunctional selfish drags kids dysfun...\n",
       "1          0  thanks lyft credit use cause offer wheelchair ...\n",
       "2          0                                   birthday majesty\n",
       "3          0                     model love take time urd ddddd\n",
       "4          0                      factsguide society motivation\n",
       "...      ...                                                ...\n",
       "31956      0       fishing tomorrow carnt wait first time years\n",
       "31957      0                           ate isz youuu ddddddddda\n",
       "31958      0  see nina turner airwaves trying wrap mantle ge...\n",
       "31959      0    listening sad songs monday morning otw work sad\n",
       "31961      0                                       thank follow\n",
       "\n",
       "[27517 rows x 2 columns]"
      ]
     },
     "execution_count": 15,
     "metadata": {},
     "output_type": "execute_result"
    }
   ],
   "source": [
    "majority_classes_preprocess = train_preprocessed[train_preprocessed['label'] == 0]\n",
    "majority_classes_preprocess = majority_classes_preprocess[['label', 'cleaned_tweet']]\n",
    "majority_classes_preprocess"
   ]
  },
  {
   "cell_type": "code",
   "execution_count": 16,
   "id": "1dfc8dfb",
   "metadata": {},
   "outputs": [
    {
     "data": {
      "text/html": [
       "<div>\n",
       "<style scoped>\n",
       "    .dataframe tbody tr th:only-of-type {\n",
       "        vertical-align: middle;\n",
       "    }\n",
       "\n",
       "    .dataframe tbody tr th {\n",
       "        vertical-align: top;\n",
       "    }\n",
       "\n",
       "    .dataframe thead th {\n",
       "        text-align: right;\n",
       "    }\n",
       "</style>\n",
       "<table border=\"1\" class=\"dataframe\">\n",
       "  <thead>\n",
       "    <tr style=\"text-align: right;\">\n",
       "      <th></th>\n",
       "      <th>label</th>\n",
       "      <th>cleaned_tweet</th>\n",
       "    </tr>\n",
       "  </thead>\n",
       "  <tbody>\n",
       "    <tr>\n",
       "      <th>0</th>\n",
       "      <td>1</td>\n",
       "      <td>user cnn calls michigan middle school build bo...</td>\n",
       "    </tr>\n",
       "    <tr>\n",
       "      <th>1</th>\n",
       "      <td>1</td>\n",
       "      <td>user cnn calls michigan middle school build th...</td>\n",
       "    </tr>\n",
       "    <tr>\n",
       "      <th>2</th>\n",
       "      <td>1</td>\n",
       "      <td>user cnn calls michigan middle school human bo...</td>\n",
       "    </tr>\n",
       "    <tr>\n",
       "      <th>3</th>\n",
       "      <td>1</td>\n",
       "      <td>user cnn calls michigan middle school build th...</td>\n",
       "    </tr>\n",
       "    <tr>\n",
       "      <th>4</th>\n",
       "      <td>1</td>\n",
       "      <td>user cnn calls michigan middle school build th...</td>\n",
       "    </tr>\n",
       "  </tbody>\n",
       "</table>\n",
       "</div>"
      ],
      "text/plain": [
       "   label                                      cleaned_tweet\n",
       "0      1  user cnn calls michigan middle school build bo...\n",
       "1      1  user cnn calls michigan middle school build th...\n",
       "2      1  user cnn calls michigan middle school human bo...\n",
       "3      1  user cnn calls michigan middle school build th...\n",
       "4      1  user cnn calls michigan middle school build th..."
      ]
     },
     "execution_count": 16,
     "metadata": {},
     "output_type": "execute_result"
    }
   ],
   "source": [
    "f = open('preprocessing_augmented.txt', 'r+')\n",
    "tweets_preprocessing = []\n",
    "\n",
    "for line in f:\n",
    "    _, tweet = line.split('\\t')\n",
    "    tweets_preprocessing.append(tweet)\n",
    "\n",
    "minority_class_prep_augmented = pd.DataFrame({\n",
    "    'label': 1,\n",
    "    'cleaned_tweet': tweets_nopreprocessing\n",
    "})\n",
    "\n",
    "minority_class_prep_augmented.head()"
   ]
  },
  {
   "cell_type": "code",
   "execution_count": 17,
   "id": "65a95a4f",
   "metadata": {},
   "outputs": [
    {
     "data": {
      "text/html": [
       "<div>\n",
       "<style scoped>\n",
       "    .dataframe tbody tr th:only-of-type {\n",
       "        vertical-align: middle;\n",
       "    }\n",
       "\n",
       "    .dataframe tbody tr th {\n",
       "        vertical-align: top;\n",
       "    }\n",
       "\n",
       "    .dataframe thead th {\n",
       "        text-align: right;\n",
       "    }\n",
       "</style>\n",
       "<table border=\"1\" class=\"dataframe\">\n",
       "  <thead>\n",
       "    <tr style=\"text-align: right;\">\n",
       "      <th></th>\n",
       "      <th>label</th>\n",
       "      <th>cleaned_tweet</th>\n",
       "    </tr>\n",
       "  </thead>\n",
       "  <tbody>\n",
       "    <tr>\n",
       "      <th>0</th>\n",
       "      <td>0</td>\n",
       "      <td>father dysfunctional selfish drags kids dysfun...</td>\n",
       "    </tr>\n",
       "    <tr>\n",
       "      <th>1</th>\n",
       "      <td>0</td>\n",
       "      <td>thanks lyft credit use cause offer wheelchair ...</td>\n",
       "    </tr>\n",
       "    <tr>\n",
       "      <th>2</th>\n",
       "      <td>0</td>\n",
       "      <td>birthday majesty</td>\n",
       "    </tr>\n",
       "    <tr>\n",
       "      <th>3</th>\n",
       "      <td>0</td>\n",
       "      <td>model love take time urd ddddd</td>\n",
       "    </tr>\n",
       "    <tr>\n",
       "      <th>4</th>\n",
       "      <td>0</td>\n",
       "      <td>factsguide society motivation</td>\n",
       "    </tr>\n",
       "  </tbody>\n",
       "</table>\n",
       "</div>"
      ],
      "text/plain": [
       "   label                                      cleaned_tweet\n",
       "0      0  father dysfunctional selfish drags kids dysfun...\n",
       "1      0  thanks lyft credit use cause offer wheelchair ...\n",
       "2      0                                   birthday majesty\n",
       "3      0                     model love take time urd ddddd\n",
       "4      0                      factsguide society motivation"
      ]
     },
     "execution_count": 17,
     "metadata": {},
     "output_type": "execute_result"
    }
   ],
   "source": [
    "full_data_prep_augmented = pd.concat([majority_classes_preprocess, minority_class_prep_augmented], axis=0)\n",
    "full_data_prep_augmented.head()"
   ]
  },
  {
   "cell_type": "code",
   "execution_count": 18,
   "id": "ac16bb22",
   "metadata": {},
   "outputs": [
    {
     "data": {
      "text/plain": [
       "(47695, 2)"
      ]
     },
     "execution_count": 18,
     "metadata": {},
     "output_type": "execute_result"
    }
   ],
   "source": [
    "full_data_prep_augmented.shape"
   ]
  },
  {
   "cell_type": "code",
   "execution_count": 19,
   "id": "c17a5905",
   "metadata": {},
   "outputs": [
    {
     "data": {
      "text/plain": [
       "<AxesSubplot:xlabel='label', ylabel='count'>"
      ]
     },
     "execution_count": 19,
     "metadata": {},
     "output_type": "execute_result"
    },
    {
     "data": {
      "image/png": "[encoded data removed]",
      "text/plain": [
       "<Figure size 432x288 with 1 Axes>"
      ]
     },
     "metadata": {},
     "output_type": "display_data"
    }
   ],
   "source": [
    "sns.countplot(data=full_data_prep_augmented, x='label', color='cornflowerblue')"
   ]
  },
  {
   "cell_type": "code",
   "execution_count": 20,
   "id": "71c50ac0",
   "metadata": {},
   "outputs": [
    {
     "data": {
      "text/html": [
       "<div>\n",
       "<style scoped>\n",
       "    .dataframe tbody tr th:only-of-type {\n",
       "        vertical-align: middle;\n",
       "    }\n",
       "\n",
       "    .dataframe tbody tr th {\n",
       "        vertical-align: top;\n",
       "    }\n",
       "\n",
       "    .dataframe thead th {\n",
       "        text-align: right;\n",
       "    }\n",
       "</style>\n",
       "<table border=\"1\" class=\"dataframe\">\n",
       "  <thead>\n",
       "    <tr style=\"text-align: right;\">\n",
       "      <th></th>\n",
       "      <th>Total</th>\n",
       "      <th>Percentage</th>\n",
       "    </tr>\n",
       "  </thead>\n",
       "  <tbody>\n",
       "    <tr>\n",
       "      <th>0</th>\n",
       "      <td>27517</td>\n",
       "      <td>57.693679</td>\n",
       "    </tr>\n",
       "    <tr>\n",
       "      <th>1</th>\n",
       "      <td>20178</td>\n",
       "      <td>42.306321</td>\n",
       "    </tr>\n",
       "  </tbody>\n",
       "</table>\n",
       "</div>"
      ],
      "text/plain": [
       "   Total  Percentage\n",
       "0  27517   57.693679\n",
       "1  20178   42.306321"
      ]
     },
     "execution_count": 20,
     "metadata": {},
     "output_type": "execute_result"
    }
   ],
   "source": [
    "infos_prep = pd.DataFrame({'Total': full_data_prep_augmented['label'].value_counts(),\n",
    "                             'Percentage': (full_data_prep_augmented['label'].value_counts()/full_data_prep_augmented.shape[0])*100})\n",
    "\n",
    "infos_prep"
   ]
  },
  {
   "cell_type": "markdown",
   "id": "d3a06386",
   "metadata": {},
   "source": [
    "## References"
   ]
  },
  {
   "cell_type": "markdown",
   "id": "9b8356a5",
   "metadata": {},
   "source": [
    "https://github.com/jasonwei20/eda_nlp"
   ]
  }
 ],
 "metadata": {
  "kernelspec": {
   "display_name": "Python 3 (ipykernel)",
   "language": "python",
   "name": "python3"
  },
  "language_info": {
   "codemirror_mode": {
    "name": "ipython",
    "version": 3
   },
   "file_extension": ".py",
   "mimetype": "text/x-python",
   "name": "python",
   "nbconvert_exporter": "python",
   "pygments_lexer": "ipython3",
   "version": "3.8.10"
  }
 },
 "nbformat": 4,
 "nbformat_minor": 5
}
